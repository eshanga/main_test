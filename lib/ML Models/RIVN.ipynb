{
  "nbformat": 4,
  "nbformat_minor": 0,
  "metadata": {
    "colab": {
      "provenance": []
    },
    "kernelspec": {
      "name": "python3",
      "display_name": "Python 3"
    },
    "language_info": {
      "name": "python"
    }
  },
  "cells": [
    {
      "cell_type": "code",
      "execution_count": null,
      "metadata": {
        "id": "Jb-ceX3KOBZM"
      },
      "outputs": [],
      "source": [
        "import numpy as np\n",
        "import matplotlib.pyplot as plt\n",
        "import pandas as pd\n",
        "import pandas_datareader as web\n",
        "import datetime as dt\n",
        "import tensorflow as tf\n",
        "from sklearn.preprocessing import MinMaxScaler\n",
        "from tensorflow.keras.layers import Dense, Dropout, LSTM\n",
        "from tensorflow.keras.models import Sequential\n",
        "import yfinance as yf\n",
        "import firebase_admin\n",
        "from firebase_admin import credentials\n",
        "from firebase_admin import firestore"
      ]
    },
    {
      "cell_type": "code",
      "source": [
        "# Initialize Firebase\n",
        "cred = credentials.Certificate('/content/drive/MyDrive/Predictions/financiaflutter-firebase-adminsdk-ajaw7-f515e50a59.json')\n",
        "firebase_admin.initialize_app(cred)"
      ],
      "metadata": {
        "colab": {
          "base_uri": "https://localhost:8080/",
          "height": 339
        },
        "id": "NSjRLGR5OHWD",
        "outputId": "dd734b9d-ceee-44eb-e277-c68a54b3712e"
      },
      "execution_count": null,
      "outputs": [
        {
          "output_type": "error",
          "ename": "ValueError",
          "evalue": "ignored",
          "traceback": [
            "\u001b[0;31m---------------------------------------------------------------------------\u001b[0m",
            "\u001b[0;31mValueError\u001b[0m                                Traceback (most recent call last)",
            "\u001b[0;32m<ipython-input-8-088a22dbfd1f>\u001b[0m in \u001b[0;36m<cell line: 3>\u001b[0;34m()\u001b[0m\n\u001b[1;32m      1\u001b[0m \u001b[0;31m# Initialize Firebase\u001b[0m\u001b[0;34m\u001b[0m\u001b[0;34m\u001b[0m\u001b[0m\n\u001b[1;32m      2\u001b[0m \u001b[0mcred\u001b[0m \u001b[0;34m=\u001b[0m \u001b[0mcredentials\u001b[0m\u001b[0;34m.\u001b[0m\u001b[0mCertificate\u001b[0m\u001b[0;34m(\u001b[0m\u001b[0;34m'/content/drive/MyDrive/Predictions/financiaflutter-firebase-adminsdk-ajaw7-f515e50a59.json'\u001b[0m\u001b[0;34m)\u001b[0m\u001b[0;34m\u001b[0m\u001b[0;34m\u001b[0m\u001b[0m\n\u001b[0;32m----> 3\u001b[0;31m \u001b[0mfirebase_admin\u001b[0m\u001b[0;34m.\u001b[0m\u001b[0minitialize_app\u001b[0m\u001b[0;34m(\u001b[0m\u001b[0mcred\u001b[0m\u001b[0;34m)\u001b[0m\u001b[0;34m\u001b[0m\u001b[0;34m\u001b[0m\u001b[0m\n\u001b[0m",
            "\u001b[0;32m/usr/local/lib/python3.10/dist-packages/firebase_admin/__init__.py\u001b[0m in \u001b[0;36minitialize_app\u001b[0;34m(credential, options, name)\u001b[0m\n\u001b[1;32m     69\u001b[0m \u001b[0;34m\u001b[0m\u001b[0m\n\u001b[1;32m     70\u001b[0m     \u001b[0;32mif\u001b[0m \u001b[0mname\u001b[0m \u001b[0;34m==\u001b[0m \u001b[0m_DEFAULT_APP_NAME\u001b[0m\u001b[0;34m:\u001b[0m\u001b[0;34m\u001b[0m\u001b[0;34m\u001b[0m\u001b[0m\n\u001b[0;32m---> 71\u001b[0;31m         raise ValueError((\n\u001b[0m\u001b[1;32m     72\u001b[0m             \u001b[0;34m'The default Firebase app already exists. This means you called '\u001b[0m\u001b[0;34m\u001b[0m\u001b[0;34m\u001b[0m\u001b[0m\n\u001b[1;32m     73\u001b[0m             \u001b[0;34m'initialize_app() more than once without providing an app name as '\u001b[0m\u001b[0;34m\u001b[0m\u001b[0;34m\u001b[0m\u001b[0m\n",
            "\u001b[0;31mValueError\u001b[0m: The default Firebase app already exists. This means you called initialize_app() more than once without providing an app name as the second argument. In most cases you only need to call initialize_app() once. But if you do want to initialize multiple apps, pass a second argument to initialize_app() to give each app a unique name."
          ]
        }
      ]
    },
    {
      "cell_type": "code",
      "source": [
        "crypto_currency = 'RIVN'\n",
        "against_currency = 'USD'\n",
        "\n",
        "start = dt.datetime(2016,1,1)\n",
        "end = dt.datetime.now()\n",
        "\n",
        "data2 = yf.download('RIVN', start=start, end=end)"
      ],
      "metadata": {
        "colab": {
          "base_uri": "https://localhost:8080/"
        },
        "id": "DYZXXmAjRgy7",
        "outputId": "3c0bbc80-8e93-44e4-a8e9-d642c2096973"
      },
      "execution_count": null,
      "outputs": [
        {
          "output_type": "stream",
          "name": "stdout",
          "text": [
            "\r[*********************100%***********************]  1 of 1 completed\n"
          ]
        }
      ]
    },
    {
      "cell_type": "code",
      "source": [
        "\n",
        "\n",
        "scalar= MinMaxScaler(feature_range=(0,1))\n",
        "scaled_data2 =scalar.fit_transform(data2['Close'].values.reshape(-1,1))\n",
        "\n",
        "x_train2, y_train2=[], []\n",
        "\n",
        "\n",
        "for x in range(prediction_days, len(scaled_data2)-future_day):\n",
        "  x_train2.append(scaled_data2[x-prediction_days:x, 0])\n",
        "  y_train2.append(scaled_data2[x+future_day, 0])\n",
        "\n",
        "x_train2, y_train2 = np.array(x_train2), np.array(y_train2)\n",
        "x_train2 = np.reshape(x_train2, (x_train2.shape[0], x_train2.shape[1], 1))\n",
        "\n",
        "\n",
        "model2 = Sequential()\n",
        "\n",
        "model2.add(LSTM(units=50, return_sequences=True, input_shape=(x_train2.shape[1], 1)))\n",
        "model2.add(Dropout(0.2))\n",
        "model2.add(LSTM(units=50, return_sequences=True))\n",
        "model2.add(Dropout(0.2))\n",
        "model2.add(LSTM(units=50))\n",
        "model2.add(Dropout(0.2))\n",
        "model2.add(Dense(units=1))\n",
        "\n",
        "model2.compile(optimizer='adam', loss='mean_squared_error')\n",
        "model2.fit(x_train2, y_train2, epochs=25, batch_size=32)\n",
        "\n",
        "test_data2 = yf.download('RIVN', start=test_start, end=test_end)\n",
        "actual_prices2 = test_data2['Close'].values\n",
        "\n",
        "total_dataset2 = pd.concat((data2['Close'], test_data2['Close']), axis=0)\n",
        "\n",
        "\n",
        "model_inputs2 = total_dataset2[len(total_dataset2) - len(test_data2) - prediction_days:].values\n",
        "model_inputs2 = model_inputs2.reshape(-1, 1)\n",
        "model_inputs2 = scalar.fit_transform(model_inputs2)\n",
        "\n",
        "x_test2 = []\n",
        "\n",
        "for x in range(prediction_days, len(model_inputs2)):\n",
        "  x_test2.append(model_inputs2[x-prediction_days:x, 0])\n",
        "\n",
        "x_test2 = np.array(x_test2)\n",
        "x_test2 = np.reshape(x_test2, (x_test2.shape[0], x_test2.shape[1], 1))\n",
        "\n",
        "prediction_prices2 = model2.predict(x_test2)\n",
        "prediction_prices2 = scalar.inverse_transform(prediction_prices2)\n",
        "\n",
        "plt.plot(actual_prices2, color='black', label='Actual Prices')\n",
        "plt.plot(prediction_prices2, color='green', label='Predicted Prices')\n",
        "plt.title('RIVN price Prediction')\n",
        "plt.xlabel('Time')\n",
        "plt.ylabel('Price')\n",
        "plt.legend(loc = 'upper left')\n",
        "plt.show()\n",
        "\n",
        "real_data2 = [model_inputs2[len(model_inputs2)+1 - prediction_days:len(model_inputs2) + 1, 0]]\n",
        "real_data2 = np.array(real_data2)\n",
        "real_data2 = np.reshape(real_data2, (real_data2.shape[0],real_data2.shape[1], 1))\n",
        "\n",
        "prediction2 = model2.predict(real_data2)\n",
        "prediction2 = scalar.inverse_transform(prediction2)\n",
        "print(prediction2)"
      ],
      "metadata": {
        "colab": {
          "base_uri": "https://localhost:8080/",
          "height": 235
        },
        "id": "l2_AqRqaOGXc",
        "outputId": "f7d33450-e64c-483a-d6f3-f633ed5598cb"
      },
      "execution_count": null,
      "outputs": [
        {
          "output_type": "error",
          "ename": "NameError",
          "evalue": "ignored",
          "traceback": [
            "\u001b[0;31m---------------------------------------------------------------------------\u001b[0m",
            "\u001b[0;31mNameError\u001b[0m                                 Traceback (most recent call last)",
            "\u001b[0;32m<ipython-input-10-963d3bdefcea>\u001b[0m in \u001b[0;36m<cell line: 7>\u001b[0;34m()\u001b[0m\n\u001b[1;32m      5\u001b[0m \u001b[0;34m\u001b[0m\u001b[0m\n\u001b[1;32m      6\u001b[0m \u001b[0;34m\u001b[0m\u001b[0m\n\u001b[0;32m----> 7\u001b[0;31m \u001b[0;32mfor\u001b[0m \u001b[0mx\u001b[0m \u001b[0;32min\u001b[0m \u001b[0mrange\u001b[0m\u001b[0;34m(\u001b[0m\u001b[0mprediction_days\u001b[0m\u001b[0;34m,\u001b[0m \u001b[0mlen\u001b[0m\u001b[0;34m(\u001b[0m\u001b[0mscaled_data2\u001b[0m\u001b[0;34m)\u001b[0m\u001b[0;34m-\u001b[0m\u001b[0mfuture_day\u001b[0m\u001b[0;34m)\u001b[0m\u001b[0;34m:\u001b[0m\u001b[0;34m\u001b[0m\u001b[0;34m\u001b[0m\u001b[0m\n\u001b[0m\u001b[1;32m      8\u001b[0m   \u001b[0mx_train2\u001b[0m\u001b[0;34m.\u001b[0m\u001b[0mappend\u001b[0m\u001b[0;34m(\u001b[0m\u001b[0mscaled_data2\u001b[0m\u001b[0;34m[\u001b[0m\u001b[0mx\u001b[0m\u001b[0;34m-\u001b[0m\u001b[0mprediction_days\u001b[0m\u001b[0;34m:\u001b[0m\u001b[0mx\u001b[0m\u001b[0;34m,\u001b[0m \u001b[0;36m0\u001b[0m\u001b[0;34m]\u001b[0m\u001b[0;34m)\u001b[0m\u001b[0;34m\u001b[0m\u001b[0;34m\u001b[0m\u001b[0m\n\u001b[1;32m      9\u001b[0m   \u001b[0my_train2\u001b[0m\u001b[0;34m.\u001b[0m\u001b[0mappend\u001b[0m\u001b[0;34m(\u001b[0m\u001b[0mscaled_data2\u001b[0m\u001b[0;34m[\u001b[0m\u001b[0mx\u001b[0m\u001b[0;34m+\u001b[0m\u001b[0mfuture_day\u001b[0m\u001b[0;34m,\u001b[0m \u001b[0;36m0\u001b[0m\u001b[0;34m]\u001b[0m\u001b[0;34m)\u001b[0m\u001b[0;34m\u001b[0m\u001b[0;34m\u001b[0m\u001b[0m\n",
            "\u001b[0;31mNameError\u001b[0m: name 'prediction_days' is not defined"
          ]
        }
      ]
    },
    {
      "cell_type": "code",
      "source": [
        "# Save the prediction value to Firebase Firestore\n",
        "db = firestore.client()\n",
        "doc_ref = db.collection('predictionstock').document(crypto_currency)\n",
        "doc_ref.set({\n",
        "    'prediction': float(prediction2[0][0])\n",
        "})"
      ],
      "metadata": {
        "id": "u9OS_OMVOX8P"
      },
      "execution_count": null,
      "outputs": []
    }
  ]
}