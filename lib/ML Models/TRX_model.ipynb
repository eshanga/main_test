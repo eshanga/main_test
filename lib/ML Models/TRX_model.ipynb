{
  "cells": [
    {
      "cell_type": "code",
      "execution_count": null,
      "metadata": {
        "id": "2L44ULMa0uxj"
      },
      "outputs": [],
      "source": [
        "import numpy as np\n",
        "import matplotlib.pyplot as plt\n",
        "import pandas as pd\n",
        "import pandas_datareader as web\n",
        "import datetime as dt\n",
        "import tensorflow as tf\n",
        "from sklearn.preprocessing import MinMaxScaler\n",
        "from tensorflow.keras.layers import Dense, Dropout, LSTM\n",
        "from tensorflow.keras.models import Sequential\n",
        "import yfinance as yf\n",
        "import firebase_admin\n",
        "from firebase_admin import credentials\n",
        "from firebase_admin import firestore"
      ]
    },
    {
      "cell_type": "code",
      "execution_count": null,
      "metadata": {
        "colab": {
          "base_uri": "https://localhost:8080/"
        },
        "id": "RYOx0iOU2gYA",
        "outputId": "a977b64e-a4cc-468c-9c96-06b39d0ac71c"
      },
      "outputs": [
        {
          "output_type": "execute_result",
          "data": {
            "text/plain": [
              "<firebase_admin.App at 0x7c235e121e70>"
            ]
          },
          "metadata": {},
          "execution_count": 2
        }
      ],
      "source": [
        "# Initialize Firebase\n",
        "cred = credentials.Certificate('/content/drive/MyDrive/Predictions/financiaflutter-firebase-adminsdk-ajaw7-f515e50a59.json')\n",
        "firebase_admin.initialize_app(cred)"
      ]
    },
    {
      "cell_type": "code",
      "execution_count": null,
      "metadata": {
        "colab": {
          "base_uri": "https://localhost:8080/"
        },
        "id": "-enVTxb2NUfu",
        "outputId": "2601f75c-eff1-43b3-ae94-bf9751c3fcca"
      },
      "outputs": [
        {
          "output_type": "stream",
          "name": "stdout",
          "text": [
            "\r[*********************100%***********************]  1 of 1 completed\n"
          ]
        }
      ],
      "source": [
        "crypto_currency = 'TRX'\n",
        "against_currency = 'USD'\n",
        "\n",
        "start = dt.datetime(2016,1,1)\n",
        "end = dt.datetime.now()\n",
        "\n",
        "data = yf.download('TRX-USD', start=start, end=end)"
      ]
    },
    {
      "cell_type": "markdown",
      "metadata": {
        "id": "e6CiirouBToR"
      },
      "source": [
        "Prepare Data"
      ]
    },
    {
      "cell_type": "code",
      "execution_count": null,
      "metadata": {
        "colab": {
          "base_uri": "https://localhost:8080/"
        },
        "id": "PGgXC6yhN08U",
        "outputId": "33c1aa4e-663f-46dc-c3b8-06a6f1f2345b"
      },
      "outputs": [
        {
          "output_type": "stream",
          "name": "stdout",
          "text": [
            "                Open      High       Low     Close  Adj Close   Volume\n",
            "Date                                                                  \n",
            "2017-11-09  0.002304  0.002438  0.002285  0.002344   0.002344  2924350\n",
            "2017-11-10  0.002335  0.002350  0.001989  0.002013   0.002013  2193620\n",
            "2017-11-11  0.002026  0.002298  0.001890  0.002003   0.002003  1748460\n",
            "2017-11-12  0.002006  0.002006  0.001684  0.001783   0.001783  2174370\n",
            "2017-11-13  0.001795  0.002146  0.001771  0.002112   0.002112  2889150\n"
          ]
        }
      ],
      "source": [
        "print(data.head())"
      ]
    },
    {
      "cell_type": "code",
      "execution_count": null,
      "metadata": {
        "id": "HE8W8dTACTPM"
      },
      "outputs": [],
      "source": [
        "from sklearn.preprocessing import MinMaxScaler"
      ]
    },
    {
      "cell_type": "code",
      "execution_count": null,
      "metadata": {
        "id": "YWFh9HqWhP8z"
      },
      "outputs": [],
      "source": [
        "scalar= MinMaxScaler(feature_range=(0,1))\n",
        "scaled_data =scalar.fit_transform(data['Close'].values.reshape(-1,1))"
      ]
    },
    {
      "cell_type": "code",
      "execution_count": null,
      "metadata": {
        "id": "TgNWw21HB5oF"
      },
      "outputs": [],
      "source": [
        "prediction_days = 60\n",
        "future_day = 10\n",
        "\n",
        "x_train, y_train=[], []"
      ]
    },
    {
      "cell_type": "code",
      "execution_count": null,
      "metadata": {
        "id": "5hyIgP5_C3B0"
      },
      "outputs": [],
      "source": [
        "for x in range(prediction_days, len(scaled_data)-future_day):\n",
        "  x_train.append(scaled_data[x-prediction_days:x, 0])\n",
        "  y_train.append(scaled_data[x+future_day, 0])\n",
        "\n",
        "x_train, y_train = np.array(x_train), np.array(y_train)\n",
        "x_train = np.reshape(x_train, (x_train.shape[0], x_train.shape[1], 1))"
      ]
    },
    {
      "cell_type": "markdown",
      "metadata": {
        "id": "cBo0daU9EQOd"
      },
      "source": [
        "Create Neural Network"
      ]
    },
    {
      "cell_type": "code",
      "execution_count": null,
      "metadata": {
        "colab": {
          "base_uri": "https://localhost:8080/"
        },
        "id": "qsE9DwL-D1LW",
        "outputId": "17afd94b-09ff-45d1-f8a5-04a8b08943d5"
      },
      "outputs": [
        {
          "output_type": "stream",
          "name": "stdout",
          "text": [
            "Epoch 1/25\n",
            "64/64 [==============================] - 14s 121ms/step - loss: 0.0082\n",
            "Epoch 2/25\n",
            "64/64 [==============================] - 6s 92ms/step - loss: 0.0041\n",
            "Epoch 3/25\n",
            "64/64 [==============================] - 8s 119ms/step - loss: 0.0038\n",
            "Epoch 4/25\n",
            "64/64 [==============================] - 6s 88ms/step - loss: 0.0034\n",
            "Epoch 5/25\n",
            "64/64 [==============================] - 8s 118ms/step - loss: 0.0034\n",
            "Epoch 6/25\n",
            "64/64 [==============================] - 7s 110ms/step - loss: 0.0032\n",
            "Epoch 7/25\n",
            "64/64 [==============================] - 7s 117ms/step - loss: 0.0035\n",
            "Epoch 8/25\n",
            "64/64 [==============================] - 6s 91ms/step - loss: 0.0032\n",
            "Epoch 9/25\n",
            "64/64 [==============================] - 7s 117ms/step - loss: 0.0030\n",
            "Epoch 10/25\n",
            "64/64 [==============================] - 6s 88ms/step - loss: 0.0031\n",
            "Epoch 11/25\n",
            "64/64 [==============================] - 7s 109ms/step - loss: 0.0031\n",
            "Epoch 12/25\n",
            "64/64 [==============================] - 7s 103ms/step - loss: 0.0030\n",
            "Epoch 13/25\n",
            "64/64 [==============================] - 6s 97ms/step - loss: 0.0028\n",
            "Epoch 14/25\n",
            "64/64 [==============================] - 7s 108ms/step - loss: 0.0029\n",
            "Epoch 15/25\n",
            "64/64 [==============================] - 6s 88ms/step - loss: 0.0028\n",
            "Epoch 16/25\n",
            "64/64 [==============================] - 8s 123ms/step - loss: 0.0026\n",
            "Epoch 17/25\n",
            "64/64 [==============================] - 6s 87ms/step - loss: 0.0026\n",
            "Epoch 18/25\n",
            "64/64 [==============================] - 7s 116ms/step - loss: 0.0027\n",
            "Epoch 19/25\n",
            "64/64 [==============================] - 6s 93ms/step - loss: 0.0025\n",
            "Epoch 20/25\n",
            "64/64 [==============================] - 8s 122ms/step - loss: 0.0023\n",
            "Epoch 21/25\n",
            "64/64 [==============================] - 6s 92ms/step - loss: 0.0024\n",
            "Epoch 22/25\n",
            "64/64 [==============================] - 8s 120ms/step - loss: 0.0023\n",
            "Epoch 23/25\n",
            "64/64 [==============================] - 6s 91ms/step - loss: 0.0022\n",
            "Epoch 24/25\n",
            "64/64 [==============================] - 7s 110ms/step - loss: 0.0024\n",
            "Epoch 25/25\n",
            "64/64 [==============================] - 6s 100ms/step - loss: 0.0021\n"
          ]
        },
        {
          "output_type": "execute_result",
          "data": {
            "text/plain": [
              "<keras.callbacks.History at 0x7c22cc1fb400>"
            ]
          },
          "metadata": {},
          "execution_count": 9
        }
      ],
      "source": [
        "model = Sequential()\n",
        "\n",
        "model.add(LSTM(units=50, return_sequences=True, input_shape=(x_train.shape[1], 1)))\n",
        "model.add(Dropout(0.2))\n",
        "model.add(LSTM(units=50, return_sequences=True))\n",
        "model.add(Dropout(0.2))\n",
        "model.add(LSTM(units=50))\n",
        "model.add(Dropout(0.2))\n",
        "model.add(Dense(units=1))\n",
        "\n",
        "model.compile(optimizer='adam', loss='mean_squared_error')\n",
        "model.fit(x_train, y_train, epochs=25, batch_size=32)"
      ]
    },
    {
      "cell_type": "markdown",
      "metadata": {
        "id": "RALFcc-HoxIw"
      },
      "source": [
        "Testing the model"
      ]
    },
    {
      "cell_type": "code",
      "execution_count": null,
      "metadata": {
        "id": "Gr2U0ghREWLH",
        "colab": {
          "base_uri": "https://localhost:8080/"
        },
        "outputId": "3796a6c4-2c0d-43db-da55-b3b95ced00f0"
      },
      "outputs": [
        {
          "output_type": "stream",
          "name": "stdout",
          "text": [
            "\r[*********************100%***********************]  1 of 1 completed\n"
          ]
        }
      ],
      "source": [
        "test_start = dt.datetime(2020,1,1)\n",
        "test_end = dt.datetime.now()\n",
        "\n",
        "test_data = yf.download('TRX-USD', start=test_start, end=test_end)\n",
        "actual_prices = test_data['Close'].values\n",
        "\n",
        "total_dataset = pd.concat((data['Close'], test_data['Close']), axis=0)"
      ]
    },
    {
      "cell_type": "code",
      "execution_count": null,
      "metadata": {
        "id": "vVWVHDXdrLjf"
      },
      "outputs": [],
      "source": [
        "model_inputs = total_dataset[len(total_dataset) - len(test_data) - prediction_days:].values\n",
        "model_inputs = model_inputs.reshape(-1, 1)\n",
        "model_inputs = scalar.fit_transform(model_inputs)"
      ]
    },
    {
      "cell_type": "code",
      "execution_count": null,
      "metadata": {
        "id": "rtj6W7KUsfs8"
      },
      "outputs": [],
      "source": [
        "x_test = []\n",
        "\n",
        "for x in range(prediction_days, len(model_inputs)):\n",
        "  x_test.append(model_inputs[x-prediction_days:x, 0])\n",
        "\n",
        "x_test = np.array(x_test)\n",
        "x_test = np.reshape(x_test, (x_test.shape[0], x_test.shape[1], 1))"
      ]
    },
    {
      "cell_type": "code",
      "execution_count": null,
      "metadata": {
        "colab": {
          "base_uri": "https://localhost:8080/"
        },
        "id": "g-01GpkttO-R",
        "outputId": "1a90a7b1-6492-4722-b72e-7e5893133d0c"
      },
      "outputs": [
        {
          "output_type": "stream",
          "name": "stdout",
          "text": [
            "41/41 [==============================] - 2s 28ms/step\n"
          ]
        }
      ],
      "source": [
        "prediction_prices = model.predict(x_test)\n",
        "prediction_prices = scalar.inverse_transform(prediction_prices)"
      ]
    },
    {
      "cell_type": "code",
      "execution_count": null,
      "metadata": {
        "colab": {
          "base_uri": "https://localhost:8080/",
          "height": 472
        },
        "id": "At6TfsNQuXmG",
        "outputId": "74b81f8c-b765-43cf-cf31-770367f86c90"
      },
      "outputs": [
        {
          "output_type": "display_data",
          "data": {
            "text/plain": [
              "<Figure size 640x480 with 1 Axes>"
            ],
            "image/png": "[encoded data removed]"
          },
          "metadata": {}
        }
      ],
      "source": [
        "plt.plot(actual_prices, color='black', label='Actual Prices')\n",
        "plt.plot(prediction_prices, color='green', label='Predicted Prices')\n",
        "plt.title('TRX price Prediction')\n",
        "plt.xlabel('Time')\n",
        "plt.ylabel('Price')\n",
        "plt.legend(loc = 'upper left')\n",
        "plt.show()"
      ]
    },
    {
      "cell_type": "markdown",
      "metadata": {
        "id": "oe2mwlazbGSy"
      },
      "source": [
        "# Predict next day"
      ]
    },
    {
      "cell_type": "code",
      "execution_count": null,
      "metadata": {
        "id": "q6WxVEVjbFdF"
      },
      "outputs": [],
      "source": [
        "real_data = [model_inputs[len(model_inputs)+1 - prediction_days:len(model_inputs) + 1, 0]]\n",
        "real_data = np.array(real_data)\n"
      ]
    },
    {
      "cell_type": "code",
      "execution_count": null,
      "metadata": {
        "colab": {
          "base_uri": "https://localhost:8080/"
        },
        "id": "iKbdIwBLPfsC",
        "outputId": "c178a305-f262-4568-f0c7-3eeee3b9eb25"
      },
      "outputs": [
        {
          "output_type": "execute_result",
          "data": {
            "text/plain": [
              "(1, 59)"
            ]
          },
          "metadata": {},
          "execution_count": 16
        }
      ],
      "source": [
        "real_data.shape"
      ]
    },
    {
      "cell_type": "code",
      "execution_count": null,
      "metadata": {
        "id": "aBdxprq1L61A"
      },
      "outputs": [],
      "source": [
        "real_data = np.reshape(real_data, (real_data.shape[0],real_data.shape[1], 1))"
      ]
    },
    {
      "cell_type": "code",
      "execution_count": null,
      "metadata": {
        "colab": {
          "base_uri": "https://localhost:8080/"
        },
        "id": "a1wahYwXcUdz",
        "outputId": "28a37f45-9c27-48ca-85f2-f6653f4176e6"
      },
      "outputs": [
        {
          "output_type": "stream",
          "name": "stdout",
          "text": [
            "1/1 [==============================] - 1s 1s/step\n",
            "[[0.07432398]]\n"
          ]
        }
      ],
      "source": [
        "prediction = model.predict(real_data)\n",
        "prediction = scalar.inverse_transform(prediction)\n",
        "print(prediction)"
      ]
    },
    {
      "cell_type": "code",
      "execution_count": null,
      "metadata": {
        "colab": {
          "base_uri": "https://localhost:8080/"
        },
        "id": "oD17yKXC2z0D",
        "outputId": "f62604d4-9c8b-4278-8057-47eba98168f9"
      },
      "outputs": [
        {
          "output_type": "execute_result",
          "data": {
            "text/plain": [
              "update_time {\n",
              "  seconds: 1691397516\n",
              "  nanos: 873293000\n",
              "}"
            ]
          },
          "metadata": {},
          "execution_count": 19
        }
      ],
      "source": [
        "# Save the prediction value to Firebase Firestore\n",
        "db = firestore.client()\n",
        "doc_ref = db.collection('predictioncrypto').document(crypto_currency)\n",
        "doc_ref.set({\n",
        "    'prediction': float(prediction[0][0])\n",
        "})"
      ]
    }
  ],
  "metadata": {
    "colab": {
      "provenance": []
    },
    "kernelspec": {
      "display_name": "Python 3",
      "name": "python3"
    },
    "language_info": {
      "name": "python"
    }
  },
  "nbformat": 4,
  "nbformat_minor": 0
}