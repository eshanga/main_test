{
  "nbformat": 4,
  "nbformat_minor": 0,
  "metadata": {
    "colab": {
      "provenance": []
    },
    "kernelspec": {
      "name": "python3",
      "display_name": "Python 3"
    },
    "language_info": {
      "name": "python"
    }
  },
  "cells": [
    {
      "cell_type": "code",
      "source": [
        "import numpy as np\n",
        "import matplotlib.pyplot as plt\n",
        "import pandas as pd\n",
        "import pandas_datareader as web\n",
        "import datetime as dt\n",
        "import tensorflow as tf\n",
        "from sklearn.preprocessing import MinMaxScaler\n",
        "from tensorflow.keras.layers import Dense, Dropout, LSTM\n",
        "from tensorflow.keras.models import Sequential\n",
        "import yfinance as yf\n",
        "import firebase_admin\n",
        "from firebase_admin import credentials\n",
        "from firebase_admin import firestore"
      ],
      "metadata": {
        "id": "2L44ULMa0uxj"
      },
      "execution_count": null,
      "outputs": []
    },
    {
      "cell_type": "code",
      "source": [
        "# Initialize Firebase\n",
        "cred = credentials.Certificate('/content/drive/MyDrive/Predictions/financiaflutter-firebase-adminsdk-ajaw7-f515e50a59.json')\n",
        "firebase_admin.initialize_app(cred)"
      ],
      "metadata": {
        "colab": {
          "base_uri": "https://localhost:8080/"
        },
        "id": "QJqnTohL2cLI",
        "outputId": "40d440b8-e54a-4496-ead4-e425dab7ed98"
      },
      "execution_count": null,
      "outputs": [
        {
          "output_type": "execute_result",
          "data": {
            "text/plain": [
              "<firebase_admin.App at 0x7bb0cd6c1fc0>"
            ]
          },
          "metadata": {},
          "execution_count": 2
        }
      ]
    },
    {
      "cell_type": "code",
      "source": [
        "crypto_currency = 'USDC'\n",
        "against_currency = 'USD'\n",
        "\n",
        "start = dt.datetime(2016,1,1)\n",
        "end = dt.datetime.now()\n",
        "\n",
        "data = yf.download('USDC-USD', start=start, end=end)"
      ],
      "metadata": {
        "colab": {
          "base_uri": "https://localhost:8080/"
        },
        "id": "-enVTxb2NUfu",
        "outputId": "68c5386b-4175-4cb5-fe69-b387a3f32792"
      },
      "execution_count": null,
      "outputs": [
        {
          "output_type": "stream",
          "name": "stdout",
          "text": [
            "\r[*********************100%***********************]  1 of 1 completed\n"
          ]
        }
      ]
    },
    {
      "cell_type": "markdown",
      "source": [
        "Prepare Data"
      ],
      "metadata": {
        "id": "e6CiirouBToR"
      }
    },
    {
      "cell_type": "code",
      "source": [
        "print(data.head())"
      ],
      "metadata": {
        "colab": {
          "base_uri": "https://localhost:8080/"
        },
        "id": "PGgXC6yhN08U",
        "outputId": "00741e4a-ba2b-4eb5-8808-f631e3e0a900"
      },
      "execution_count": null,
      "outputs": [
        {
          "output_type": "stream",
          "name": "stdout",
          "text": [
            "               Open     High      Low    Close  Adj Close   Volume\n",
            "Date                                                              \n",
            "2018-10-08  1.00410  1.00768  1.00190  1.00221    1.00221   382900\n",
            "2018-10-09  1.00427  1.00833  1.00003  1.00686    1.00686   108803\n",
            "2018-10-10  1.00494  1.01908  1.00397  1.00962    1.00962   711783\n",
            "2018-10-11  1.00994  1.03123  1.00173  1.00978    1.00978  4177290\n",
            "2018-10-12  1.00861  1.01871  1.00114  1.01272    1.01272  1322240\n"
          ]
        }
      ]
    },
    {
      "cell_type": "code",
      "source": [
        "from sklearn.preprocessing import MinMaxScaler"
      ],
      "metadata": {
        "id": "HE8W8dTACTPM"
      },
      "execution_count": null,
      "outputs": []
    },
    {
      "cell_type": "code",
      "source": [
        "scalar= MinMaxScaler(feature_range=(0,1))\n",
        "scaled_data =scalar.fit_transform(data['Close'].values.reshape(-1,1))"
      ],
      "metadata": {
        "id": "YWFh9HqWhP8z"
      },
      "execution_count": null,
      "outputs": []
    },
    {
      "cell_type": "code",
      "source": [
        "prediction_days = 60\n",
        "future_day = 10\n",
        "\n",
        "x_train, y_train=[], []"
      ],
      "metadata": {
        "id": "TgNWw21HB5oF"
      },
      "execution_count": null,
      "outputs": []
    },
    {
      "cell_type": "code",
      "source": [
        "for x in range(prediction_days, len(scaled_data)-future_day):\n",
        "  x_train.append(scaled_data[x-prediction_days:x, 0])\n",
        "  y_train.append(scaled_data[x+future_day, 0])\n",
        "\n",
        "x_train, y_train = np.array(x_train), np.array(y_train)\n",
        "x_train = np.reshape(x_train, (x_train.shape[0], x_train.shape[1], 1))"
      ],
      "metadata": {
        "id": "5hyIgP5_C3B0"
      },
      "execution_count": null,
      "outputs": []
    },
    {
      "cell_type": "markdown",
      "source": [
        "Create Neural Network"
      ],
      "metadata": {
        "id": "cBo0daU9EQOd"
      }
    },
    {
      "cell_type": "code",
      "source": [
        "model = Sequential()\n",
        "\n",
        "model.add(LSTM(units=50, return_sequences=True, input_shape=(x_train.shape[1], 1)))\n",
        "model.add(Dropout(0.2))\n",
        "model.add(LSTM(units=50, return_sequences=True))\n",
        "model.add(Dropout(0.2))\n",
        "model.add(LSTM(units=50))\n",
        "model.add(Dropout(0.2))\n",
        "model.add(Dense(units=1))\n",
        "\n",
        "model.compile(optimizer='adam', loss='mean_squared_error')\n",
        "model.fit(x_train, y_train, epochs=25, batch_size=32)"
      ],
      "metadata": {
        "id": "qsE9DwL-D1LW",
        "colab": {
          "base_uri": "https://localhost:8080/"
        },
        "outputId": "a2bf623b-4f3d-4177-caf7-73d6e12aa241"
      },
      "execution_count": null,
      "outputs": [
        {
          "output_type": "stream",
          "name": "stdout",
          "text": [
            "Epoch 1/25\n",
            "53/53 [==============================] - 17s 134ms/step - loss: 0.0182\n",
            "Epoch 2/25\n",
            "53/53 [==============================] - 5s 95ms/step - loss: 0.0050\n",
            "Epoch 3/25\n",
            "53/53 [==============================] - 5s 100ms/step - loss: 0.0047\n",
            "Epoch 4/25\n",
            "53/53 [==============================] - 7s 128ms/step - loss: 0.0044\n",
            "Epoch 5/25\n",
            "53/53 [==============================] - 5s 97ms/step - loss: 0.0044\n",
            "Epoch 6/25\n",
            "53/53 [==============================] - 7s 133ms/step - loss: 0.0045\n",
            "Epoch 7/25\n",
            "53/53 [==============================] - 5s 95ms/step - loss: 0.0044\n",
            "Epoch 8/25\n",
            "53/53 [==============================] - 5s 97ms/step - loss: 0.0043\n",
            "Epoch 9/25\n",
            "53/53 [==============================] - 7s 131ms/step - loss: 0.0041\n",
            "Epoch 10/25\n",
            "53/53 [==============================] - 5s 95ms/step - loss: 0.0043\n",
            "Epoch 11/25\n",
            "53/53 [==============================] - 7s 131ms/step - loss: 0.0041\n",
            "Epoch 12/25\n",
            "53/53 [==============================] - 6s 110ms/step - loss: 0.0041\n",
            "Epoch 13/25\n",
            "53/53 [==============================] - 6s 105ms/step - loss: 0.0041\n",
            "Epoch 14/25\n",
            "53/53 [==============================] - 6s 120ms/step - loss: 0.0045\n",
            "Epoch 15/25\n",
            "53/53 [==============================] - 5s 95ms/step - loss: 0.0039\n",
            "Epoch 16/25\n",
            "53/53 [==============================] - 7s 133ms/step - loss: 0.0039\n",
            "Epoch 17/25\n",
            "53/53 [==============================] - 5s 96ms/step - loss: 0.0043\n",
            "Epoch 18/25\n",
            "53/53 [==============================] - 5s 104ms/step - loss: 0.0041\n",
            "Epoch 19/25\n",
            "53/53 [==============================] - 7s 124ms/step - loss: 0.0039\n",
            "Epoch 20/25\n",
            "53/53 [==============================] - 5s 95ms/step - loss: 0.0038\n",
            "Epoch 21/25\n",
            "53/53 [==============================] - 7s 132ms/step - loss: 0.0038\n",
            "Epoch 22/25\n",
            "53/53 [==============================] - 5s 95ms/step - loss: 0.0038\n",
            "Epoch 23/25\n",
            "53/53 [==============================] - 5s 100ms/step - loss: 0.0040\n",
            "Epoch 24/25\n",
            "53/53 [==============================] - 7s 126ms/step - loss: 0.0037\n",
            "Epoch 25/25\n",
            "53/53 [==============================] - 5s 95ms/step - loss: 0.0036\n"
          ]
        },
        {
          "output_type": "execute_result",
          "data": {
            "text/plain": [
              "<keras.callbacks.History at 0x7bb02f6bbf40>"
            ]
          },
          "metadata": {},
          "execution_count": 9
        }
      ]
    },
    {
      "cell_type": "markdown",
      "source": [
        "Testing the model"
      ],
      "metadata": {
        "id": "RALFcc-HoxIw"
      }
    },
    {
      "cell_type": "code",
      "source": [
        "test_start = dt.datetime(2020,1,1)\n",
        "test_end = dt.datetime.now()\n",
        "\n",
        "test_data = yf.download('USDC-USD', start=test_start, end=test_end)\n",
        "actual_prices = test_data['Close'].values\n",
        "\n",
        "total_dataset = pd.concat((data['Close'], test_data['Close']), axis=0)"
      ],
      "metadata": {
        "id": "Gr2U0ghREWLH",
        "colab": {
          "base_uri": "https://localhost:8080/"
        },
        "outputId": "41fdfe11-0a46-4977-ca3c-9bd8a6856a32"
      },
      "execution_count": null,
      "outputs": [
        {
          "output_type": "stream",
          "name": "stdout",
          "text": [
            "\r[*********************100%***********************]  1 of 1 completed\n"
          ]
        }
      ]
    },
    {
      "cell_type": "code",
      "source": [
        "model_inputs = total_dataset[len(total_dataset) - len(test_data) - prediction_days:].values\n",
        "model_inputs = model_inputs.reshape(-1, 1)\n",
        "model_inputs = scalar.fit_transform(model_inputs)"
      ],
      "metadata": {
        "id": "vVWVHDXdrLjf"
      },
      "execution_count": null,
      "outputs": []
    },
    {
      "cell_type": "code",
      "source": [
        "x_test = []\n",
        "\n",
        "for x in range(prediction_days, len(model_inputs)):\n",
        "  x_test.append(model_inputs[x-prediction_days:x, 0])\n",
        "\n",
        "x_test = np.array(x_test)\n",
        "x_test = np.reshape(x_test, (x_test.shape[0], x_test.shape[1], 1))"
      ],
      "metadata": {
        "id": "rtj6W7KUsfs8"
      },
      "execution_count": null,
      "outputs": []
    },
    {
      "cell_type": "code",
      "source": [
        "prediction_prices = model.predict(x_test)\n",
        "prediction_prices = scalar.inverse_transform(prediction_prices)"
      ],
      "metadata": {
        "colab": {
          "base_uri": "https://localhost:8080/"
        },
        "id": "g-01GpkttO-R",
        "outputId": "fdd4626f-e2b2-4aa2-c175-6a2234af8e42"
      },
      "execution_count": null,
      "outputs": [
        {
          "output_type": "stream",
          "name": "stdout",
          "text": [
            "41/41 [==============================] - 2s 28ms/step\n"
          ]
        }
      ]
    },
    {
      "cell_type": "code",
      "source": [
        "plt.plot(actual_prices, color='black', label='Actual Prices')\n",
        "plt.plot(prediction_prices, color='green', label='Predicted Prices')\n",
        "plt.title('USDC price Prediction')\n",
        "plt.xlabel('Time')\n",
        "plt.ylabel('Price')\n",
        "plt.legend(loc = 'upper left')\n",
        "plt.show()"
      ],
      "metadata": {
        "colab": {
          "base_uri": "https://localhost:8080/",
          "height": 472
        },
        "id": "At6TfsNQuXmG",
        "outputId": "914d008e-447e-482c-9754-29f89e0a64e4"
      },
      "execution_count": null,
      "outputs": [
        {
          "output_type": "display_data",
          "data": {
            "text/plain": [
              "<Figure size 640x480 with 1 Axes>"
            ],
            "image/png": "[encoded data removed]"
          },
          "metadata": {}
        }
      ]
    },
    {
      "cell_type": "markdown",
      "source": [
        "# Predict next day"
      ],
      "metadata": {
        "id": "oe2mwlazbGSy"
      }
    },
    {
      "cell_type": "code",
      "source": [
        "real_data = [model_inputs[len(model_inputs)+1 - prediction_days:len(model_inputs) + 1, 0]]\n",
        "real_data = np.array(real_data)\n"
      ],
      "metadata": {
        "id": "q6WxVEVjbFdF"
      },
      "execution_count": null,
      "outputs": []
    },
    {
      "cell_type": "code",
      "source": [
        "real_data.shape"
      ],
      "metadata": {
        "colab": {
          "base_uri": "https://localhost:8080/"
        },
        "id": "iKbdIwBLPfsC",
        "outputId": "945654fe-4c21-4b92-dbe9-6618053fd676"
      },
      "execution_count": null,
      "outputs": [
        {
          "output_type": "execute_result",
          "data": {
            "text/plain": [
              "(1, 59)"
            ]
          },
          "metadata": {},
          "execution_count": 16
        }
      ]
    },
    {
      "cell_type": "code",
      "source": [
        "real_data = np.reshape(real_data, (real_data.shape[0],real_data.shape[1], 1))"
      ],
      "metadata": {
        "id": "aBdxprq1L61A"
      },
      "execution_count": null,
      "outputs": []
    },
    {
      "cell_type": "code",
      "source": [
        "prediction = model.predict(real_data)\n",
        "prediction = scalar.inverse_transform(prediction)\n",
        "print(prediction)"
      ],
      "metadata": {
        "id": "a1wahYwXcUdz",
        "colab": {
          "base_uri": "https://localhost:8080/"
        },
        "outputId": "dde4f519-be11-42e1-c77c-584f40345ec2"
      },
      "execution_count": null,
      "outputs": [
        {
          "output_type": "stream",
          "name": "stdout",
          "text": [
            "1/1 [==============================] - 1s 1s/step\n",
            "[[1.0004038]]\n"
          ]
        }
      ]
    },
    {
      "cell_type": "code",
      "source": [
        "# Save the prediction value to Firebase Firestore\n",
        "db = firestore.client()\n",
        "doc_ref = db.collection('predictioncrypto').document(crypto_currency)\n",
        "doc_ref.set({\n",
        "    'prediction': float(prediction[0][0])\n",
        "})"
      ],
      "metadata": {
        "colab": {
          "base_uri": "https://localhost:8080/"
        },
        "id": "XO3SNZWX2vGX",
        "outputId": "9e0560b2-af1e-4ca3-b3ac-68eecddc30dc"
      },
      "execution_count": null,
      "outputs": [
        {
          "output_type": "execute_result",
          "data": {
            "text/plain": [
              "update_time {\n",
              "  seconds: 1691398284\n",
              "  nanos: 333910000\n",
              "}"
            ]
          },
          "metadata": {},
          "execution_count": 19
        }
      ]
    }
  ]
}