{
  "nbformat": 4,
  "nbformat_minor": 0,
  "metadata": {
    "colab": {
      "provenance": []
    },
    "kernelspec": {
      "name": "python3",
      "display_name": "Python 3"
    },
    "language_info": {
      "name": "python"
    }
  },
  "cells": [
    {
      "cell_type": "code",
      "source": [
        "import numpy as np\n",
        "import matplotlib.pyplot as plt\n",
        "import pandas as pd\n",
        "import pandas_datareader as web\n",
        "import datetime as dt\n",
        "import tensorflow as tf\n",
        "from sklearn.preprocessing import MinMaxScaler\n",
        "from tensorflow.keras.layers import Dense, Dropout, LSTM\n",
        "from tensorflow.keras.models import Sequential\n",
        "import yfinance as yf\n",
        "import firebase_admin\n",
        "from firebase_admin import credentials\n",
        "from firebase_admin import firestore"
      ],
      "metadata": {
        "id": "2L44ULMa0uxj"
      },
      "execution_count": null,
      "outputs": []
    },
    {
      "cell_type": "code",
      "source": [
        "# Initialize Firebase\n",
        "cred = credentials.Certificate('/content/drive/MyDrive/Predictions/financiaflutter-firebase-adminsdk-ajaw7-f515e50a59.json')\n",
        "firebase_admin.initialize_app(cred)"
      ],
      "metadata": {
        "colab": {
          "base_uri": "https://localhost:8080/"
        },
        "id": "tJsP7Htg0Hb3",
        "outputId": "120b1e03-5fdd-4616-acaf-3b1b689265bf"
      },
      "execution_count": null,
      "outputs": [
        {
          "output_type": "execute_result",
          "data": {
            "text/plain": [
              "<firebase_admin.App at 0x7f1e179e2f20>"
            ]
          },
          "metadata": {},
          "execution_count": 2
        }
      ]
    },
    {
      "cell_type": "code",
      "source": [
        "crypto_currency = 'BTC'\n",
        "against_currency = 'USD'\n",
        "\n",
        "start = dt.datetime(2016,1,1)\n",
        "end = dt.datetime.now()\n",
        "\n",
        "data = yf.download('BTC-USD', start=start, end=end)"
      ],
      "metadata": {
        "colab": {
          "base_uri": "https://localhost:8080/"
        },
        "id": "-enVTxb2NUfu",
        "outputId": "1cf24784-36e5-452b-a9b8-3002d5353d1a"
      },
      "execution_count": null,
      "outputs": [
        {
          "output_type": "stream",
          "name": "stdout",
          "text": [
            "\r[*********************100%***********************]  1 of 1 completed\n"
          ]
        }
      ]
    },
    {
      "cell_type": "markdown",
      "source": [
        "Prepare Data"
      ],
      "metadata": {
        "id": "e6CiirouBToR"
      }
    },
    {
      "cell_type": "code",
      "source": [
        "print(data.tail())"
      ],
      "metadata": {
        "colab": {
          "base_uri": "https://localhost:8080/"
        },
        "id": "PGgXC6yhN08U",
        "outputId": "1cdd06ed-f456-4b36-edab-3aad9cba74cd"
      },
      "execution_count": null,
      "outputs": [
        {
          "output_type": "stream",
          "name": "stdout",
          "text": [
            "                    Open          High           Low         Close  \\\n",
            "Date                                                                 \n",
            "2023-07-30  29357.093750  29443.169922  29059.501953  29275.308594   \n",
            "2023-07-31  29278.314453  29489.873047  29131.578125  29230.111328   \n",
            "2023-08-01  29230.873047  29675.732422  28657.023438  29675.732422   \n",
            "2023-08-02  29704.146484  29987.998047  28946.509766  29151.958984   \n",
            "2023-08-07  29040.876953  29149.074219  28980.794922  29016.990234   \n",
            "\n",
            "               Adj Close       Volume  \n",
            "Date                                   \n",
            "2023-07-30  29275.308594   8678454527  \n",
            "2023-07-31  29230.111328  11656781982  \n",
            "2023-08-01  29675.732422  18272392391  \n",
            "2023-08-02  29151.958984  19212655598  \n",
            "2023-08-07  29016.990234   8327560192  \n"
          ]
        }
      ]
    },
    {
      "cell_type": "code",
      "source": [
        "from sklearn.preprocessing import MinMaxScaler"
      ],
      "metadata": {
        "id": "HE8W8dTACTPM"
      },
      "execution_count": null,
      "outputs": []
    },
    {
      "cell_type": "code",
      "source": [
        "data['Close'].values.reshape(-1,1)"
      ],
      "metadata": {
        "colab": {
          "base_uri": "https://localhost:8080/"
        },
        "id": "G0LhBOQd4myx",
        "outputId": "22420d6c-37b2-4828-8fab-ba00a98293f0"
      },
      "execution_count": null,
      "outputs": [
        {
          "output_type": "execute_result",
          "data": {
            "text/plain": [
              "array([[  434.33401489],\n",
              "       [  433.43798828],\n",
              "       [  430.01098633],\n",
              "       ...,\n",
              "       [29675.73242188],\n",
              "       [29151.95898438],\n",
              "       [29016.99023438]])"
            ]
          },
          "metadata": {},
          "execution_count": 6
        }
      ]
    },
    {
      "cell_type": "code",
      "source": [
        "scalar= MinMaxScaler(feature_range=(0,1))\n",
        "scaled_data =scalar.fit_transform(data['Close'].values.reshape(-1,1))\n",
        "scaled_data.shape"
      ],
      "metadata": {
        "id": "YWFh9HqWhP8z",
        "colab": {
          "base_uri": "https://localhost:8080/"
        },
        "outputId": "1d3f8e4d-bb3b-451d-fc2d-5b6d32a4ca9c"
      },
      "execution_count": null,
      "outputs": [
        {
          "output_type": "execute_result",
          "data": {
            "text/plain": [
              "(2772, 1)"
            ]
          },
          "metadata": {},
          "execution_count": 7
        }
      ]
    },
    {
      "cell_type": "code",
      "source": [
        "prediction_days = 60\n",
        "future_day = 10\n",
        "\n",
        "x_train, y_train=[], []"
      ],
      "metadata": {
        "id": "TgNWw21HB5oF"
      },
      "execution_count": null,
      "outputs": []
    },
    {
      "cell_type": "code",
      "source": [
        "for x in range(prediction_days, len(scaled_data)-future_day):\n",
        "  x_train.append(scaled_data[x-prediction_days:x, 0])\n",
        "  y_train.append(scaled_data[x+future_day, 0])\n"
      ],
      "metadata": {
        "id": "PN18BfAk3-B5"
      },
      "execution_count": null,
      "outputs": []
    },
    {
      "cell_type": "code",
      "source": [
        " x_train[70]"
      ],
      "metadata": {
        "colab": {
          "base_uri": "https://localhost:8080/"
        },
        "id": "PSHaJnDg7HWz",
        "outputId": "4fbe2b5a-ac9c-465b-a11e-fcc25f6a08df"
      },
      "execution_count": null,
      "outputs": [
        {
          "output_type": "execute_result",
          "data": {
            "text/plain": [
              "array([0.00085352, 0.00070374, 0.00074006, 0.00077537, 0.00078121,\n",
              "       0.0007839 , 0.00083762, 0.00067285, 0.00068618, 0.00073545,\n",
              "       0.00072878, 0.00079994, 0.00079923, 0.00077472, 0.00078637,\n",
              "       0.0007978 , 0.00092904, 0.00089134, 0.00077653, 0.00075124,\n",
              "       0.0007797 , 0.00079802, 0.00084137, 0.00084183, 0.00084986,\n",
              "       0.00088835, 0.00087916, 0.00086922, 0.00083357, 0.00081961,\n",
              "       0.00085165, 0.00086533, 0.00090561, 0.00088394, 0.0008921 ,\n",
              "       0.00097291, 0.00098569, 0.00093848, 0.00095621, 0.00105916,\n",
              "       0.00114665, 0.00126623, 0.00121135, 0.00127899, 0.00140209,\n",
              "       0.00144481, 0.0015142 , 0.00119573, 0.00126007, 0.00135063,\n",
              "       0.00124976, 0.00130269, 0.00119546, 0.00127931, 0.00122601,\n",
              "       0.00124467, 0.00141769, 0.00140181, 0.00140199, 0.00143078])"
            ]
          },
          "metadata": {},
          "execution_count": 10
        }
      ]
    },
    {
      "cell_type": "code",
      "source": [
        "x_train, y_train = np.array(x_train), np.array(y_train)\n",
        "x_train.shape"
      ],
      "metadata": {
        "colab": {
          "base_uri": "https://localhost:8080/"
        },
        "id": "XpZD96ng4JVh",
        "outputId": "f34aae9a-793b-4024-c9fa-db34a8a79834"
      },
      "execution_count": null,
      "outputs": [
        {
          "output_type": "execute_result",
          "data": {
            "text/plain": [
              "(2702, 60)"
            ]
          },
          "metadata": {},
          "execution_count": 11
        }
      ]
    },
    {
      "cell_type": "code",
      "source": [
        "y_train.shape"
      ],
      "metadata": {
        "id": "5hyIgP5_C3B0",
        "colab": {
          "base_uri": "https://localhost:8080/"
        },
        "outputId": "8aa66cfb-67ba-4e09-fcb6-eb02e068ac7c"
      },
      "execution_count": null,
      "outputs": [
        {
          "output_type": "execute_result",
          "data": {
            "text/plain": [
              "(2702,)"
            ]
          },
          "metadata": {},
          "execution_count": 12
        }
      ]
    },
    {
      "cell_type": "code",
      "source": [
        "x_train = np.reshape(x_train, (x_train.shape[0], x_train.shape[1], 1))"
      ],
      "metadata": {
        "id": "vLfpu5TM2ycc"
      },
      "execution_count": null,
      "outputs": []
    },
    {
      "cell_type": "markdown",
      "source": [
        "Create Neural Network"
      ],
      "metadata": {
        "id": "cBo0daU9EQOd"
      }
    },
    {
      "cell_type": "code",
      "source": [
        "model = Sequential()\n",
        "\n",
        "model.add(LSTM(units=50, return_sequences=True, input_shape=(x_train.shape[1], 1)))\n",
        "model.add(Dropout(0.2))\n",
        "model.add(LSTM(units=50, return_sequences=True))\n",
        "model.add(Dropout(0.2))\n",
        "model.add(LSTM(units=50))\n",
        "model.add(Dropout(0.2))\n",
        "model.add(Dense(units=1))\n",
        "\n",
        "model.compile(optimizer='adam', loss='mean_squared_error')\n",
        "model.fit(x_train, y_train, epochs=25, batch_size=32)"
      ],
      "metadata": {
        "id": "qsE9DwL-D1LW",
        "colab": {
          "base_uri": "https://localhost:8080/"
        },
        "outputId": "cf4dcbda-d9bb-406f-c0f5-49ef5471be42"
      },
      "execution_count": null,
      "outputs": [
        {
          "output_type": "stream",
          "name": "stdout",
          "text": [
            "Epoch 1/25\n",
            "85/85 [==============================] - 28s 216ms/step - loss: 0.0105\n",
            "Epoch 2/25\n",
            "85/85 [==============================] - 10s 117ms/step - loss: 0.0043\n",
            "Epoch 3/25\n",
            "85/85 [==============================] - 8s 94ms/step - loss: 0.0044\n",
            "Epoch 4/25\n",
            "85/85 [==============================] - 10s 117ms/step - loss: 0.0039\n",
            "Epoch 5/25\n",
            "85/85 [==============================] - 10s 116ms/step - loss: 0.0038\n",
            "Epoch 6/25\n",
            "85/85 [==============================] - 8s 93ms/step - loss: 0.0042\n",
            "Epoch 7/25\n",
            "85/85 [==============================] - 10s 118ms/step - loss: 0.0036\n",
            "Epoch 8/25\n",
            "85/85 [==============================] - 9s 105ms/step - loss: 0.0036\n",
            "Epoch 9/25\n",
            "85/85 [==============================] - 10s 116ms/step - loss: 0.0034\n",
            "Epoch 10/25\n",
            "85/85 [==============================] - 10s 116ms/step - loss: 0.0034\n",
            "Epoch 11/25\n",
            "85/85 [==============================] - 8s 94ms/step - loss: 0.0035\n",
            "Epoch 12/25\n",
            "85/85 [==============================] - 10s 115ms/step - loss: 0.0033\n",
            "Epoch 13/25\n",
            "85/85 [==============================] - 10s 117ms/step - loss: 0.0032\n",
            "Epoch 14/25\n",
            "85/85 [==============================] - 8s 94ms/step - loss: 0.0030\n",
            "Epoch 15/25\n",
            "85/85 [==============================] - 10s 118ms/step - loss: 0.0034\n",
            "Epoch 16/25\n",
            "85/85 [==============================] - 9s 103ms/step - loss: 0.0033\n",
            "Epoch 17/25\n",
            "85/85 [==============================] - 9s 103ms/step - loss: 0.0029\n",
            "Epoch 18/25\n",
            "85/85 [==============================] - 10s 117ms/step - loss: 0.0028\n",
            "Epoch 19/25\n",
            "85/85 [==============================] - 8s 91ms/step - loss: 0.0029\n",
            "Epoch 20/25\n",
            "85/85 [==============================] - 10s 116ms/step - loss: 0.0030\n",
            "Epoch 21/25\n",
            "85/85 [==============================] - 10s 114ms/step - loss: 0.0030\n",
            "Epoch 22/25\n",
            "85/85 [==============================] - 8s 91ms/step - loss: 0.0028\n",
            "Epoch 23/25\n",
            "85/85 [==============================] - 10s 116ms/step - loss: 0.0027\n",
            "Epoch 24/25\n",
            "85/85 [==============================] - 8s 97ms/step - loss: 0.0026\n",
            "Epoch 25/25\n",
            "85/85 [==============================] - 9s 111ms/step - loss: 0.0025\n"
          ]
        },
        {
          "output_type": "execute_result",
          "data": {
            "text/plain": [
              "<keras.callbacks.History at 0x7f1d80d2ebf0>"
            ]
          },
          "metadata": {},
          "execution_count": 14
        }
      ]
    },
    {
      "cell_type": "markdown",
      "source": [
        "Testing the model"
      ],
      "metadata": {
        "id": "RALFcc-HoxIw"
      }
    },
    {
      "cell_type": "code",
      "source": [
        "test_start = dt.datetime(2020,1,1)\n",
        "test_end = dt.datetime.now()\n",
        "\n",
        "test_data = yf.download('BTC-USD', start=test_start, end=test_end)\n",
        "actual_prices = test_data['Close'].values\n",
        "\n",
        "total_dataset = pd.concat((data['Close'], test_data['Close']), axis=0)"
      ],
      "metadata": {
        "id": "Gr2U0ghREWLH",
        "colab": {
          "base_uri": "https://localhost:8080/"
        },
        "outputId": "c02e70f7-d7da-4fe3-af27-e8663a0b6851"
      },
      "execution_count": null,
      "outputs": [
        {
          "output_type": "stream",
          "name": "stdout",
          "text": [
            "\r[*********************100%***********************]  1 of 1 completed\n"
          ]
        }
      ]
    },
    {
      "cell_type": "code",
      "source": [
        "model_inputs = total_dataset[len(total_dataset) - len(test_data) - prediction_days:].values\n",
        "model_inputs = model_inputs.reshape(-1, 1)\n",
        "model_inputs = scalar.fit_transform(model_inputs)"
      ],
      "metadata": {
        "id": "vVWVHDXdrLjf"
      },
      "execution_count": null,
      "outputs": []
    },
    {
      "cell_type": "code",
      "source": [
        "x_test = []\n",
        "\n",
        "for x in range(prediction_days, len(model_inputs)):\n",
        "  x_test.append(model_inputs[x-prediction_days:x, 0])\n",
        "\n",
        "x_test = np.array(x_test)\n",
        "x_test = np.reshape(x_test, (x_test.shape[0], x_test.shape[1], 1))"
      ],
      "metadata": {
        "id": "rtj6W7KUsfs8"
      },
      "execution_count": null,
      "outputs": []
    },
    {
      "cell_type": "code",
      "source": [
        "x_test.shape"
      ],
      "metadata": {
        "colab": {
          "base_uri": "https://localhost:8080/"
        },
        "id": "mw7haNlt2WqF",
        "outputId": "167fa245-248a-4298-efc1-fa431c5664f2"
      },
      "execution_count": null,
      "outputs": [
        {
          "output_type": "execute_result",
          "data": {
            "text/plain": [
              "(1311, 60, 1)"
            ]
          },
          "metadata": {},
          "execution_count": 18
        }
      ]
    },
    {
      "cell_type": "code",
      "source": [
        "x_test"
      ],
      "metadata": {
        "colab": {
          "base_uri": "https://localhost:8080/"
        },
        "id": "3blFQbsGzlRJ",
        "outputId": "d65d54f8-905c-4d86-e2f7-cf2231205b7d"
      },
      "execution_count": null,
      "outputs": [
        {
          "output_type": "execute_result",
          "data": {
            "text/plain": [
              "array([[[0.33211861],\n",
              "        [0.35574128],\n",
              "        [0.34147863],\n",
              "        ...,\n",
              "        [0.39467264],\n",
              "        [0.38630512],\n",
              "        [0.38414894]],\n",
              "\n",
              "       [[0.35574128],\n",
              "        [0.34147863],\n",
              "        [0.34407015],\n",
              "        ...,\n",
              "        [0.38630512],\n",
              "        [0.38414894],\n",
              "        [0.03561545]],\n",
              "\n",
              "       [[0.34147863],\n",
              "        [0.34407015],\n",
              "        [0.34362536],\n",
              "        ...,\n",
              "        [0.38414894],\n",
              "        [0.03561545],\n",
              "        [0.03218546]],\n",
              "\n",
              "       ...,\n",
              "\n",
              "       [[0.35591392],\n",
              "        [0.35312682],\n",
              "        [0.35382875],\n",
              "        ...,\n",
              "        [0.38957943],\n",
              "        [0.38827569],\n",
              "        [0.38755364]],\n",
              "\n",
              "       [[0.35312682],\n",
              "        [0.35382875],\n",
              "        [0.33211861],\n",
              "        ...,\n",
              "        [0.38827569],\n",
              "        [0.38755364],\n",
              "        [0.39467264]],\n",
              "\n",
              "       [[0.35382875],\n",
              "        [0.33211861],\n",
              "        [0.35574128],\n",
              "        ...,\n",
              "        [0.38755364],\n",
              "        [0.39467264],\n",
              "        [0.38630512]]])"
            ]
          },
          "metadata": {},
          "execution_count": 19
        }
      ]
    },
    {
      "cell_type": "code",
      "source": [
        "prediction_prices = model.predict(x_test)\n",
        "prediction_prices = scalar.inverse_transform(prediction_prices)"
      ],
      "metadata": {
        "colab": {
          "base_uri": "https://localhost:8080/"
        },
        "id": "g-01GpkttO-R",
        "outputId": "bb87f70f-190e-45a5-b17c-6dc5eab60eb1"
      },
      "execution_count": null,
      "outputs": [
        {
          "output_type": "stream",
          "name": "stdout",
          "text": [
            "41/41 [==============================] - 2s 27ms/step\n"
          ]
        }
      ]
    },
    {
      "cell_type": "code",
      "source": [
        "plt.plot(actual_prices, color='black', label='Actual Prices')\n",
        "plt.plot(prediction_prices, color='green', label='Predicted Prices')\n",
        "plt.title('BTC price Prediction')\n",
        "plt.xlabel('Time')\n",
        "plt.ylabel('Price')\n",
        "plt.legend(loc = 'upper left')\n",
        "plt.show()"
      ],
      "metadata": {
        "colab": {
          "base_uri": "https://localhost:8080/",
          "height": 472
        },
        "id": "At6TfsNQuXmG",
        "outputId": "dd6c44b3-08a0-479b-a286-777852d250e1"
      },
      "execution_count": null,
      "outputs": [
        {
          "output_type": "display_data",
          "data": {
            "text/plain": [
              "<Figure size 640x480 with 1 Axes>"
            ],
            "image/png": "[encoded data removed]"
          },
          "metadata": {}
        }
      ]
    },
    {
      "cell_type": "markdown",
      "source": [
        "# Predict next day"
      ],
      "metadata": {
        "id": "oe2mwlazbGSy"
      }
    },
    {
      "cell_type": "code",
      "source": [
        "real_data = [model_inputs[len(model_inputs)+1 - prediction_days:len(model_inputs) + 1, 0]]\n",
        "real_data = np.array(real_data)\n"
      ],
      "metadata": {
        "id": "q6WxVEVjbFdF"
      },
      "execution_count": null,
      "outputs": []
    },
    {
      "cell_type": "code",
      "source": [
        "real_data.shape"
      ],
      "metadata": {
        "colab": {
          "base_uri": "https://localhost:8080/"
        },
        "id": "iKbdIwBLPfsC",
        "outputId": "c8f270fd-62b0-417e-f0bf-63c713badf93"
      },
      "execution_count": null,
      "outputs": [
        {
          "output_type": "execute_result",
          "data": {
            "text/plain": [
              "(1, 59)"
            ]
          },
          "metadata": {},
          "execution_count": 23
        }
      ]
    },
    {
      "cell_type": "code",
      "source": [
        "real_data = np.reshape(real_data, (real_data.shape[0],real_data.shape[1], 1))"
      ],
      "metadata": {
        "id": "aBdxprq1L61A"
      },
      "execution_count": null,
      "outputs": []
    },
    {
      "cell_type": "code",
      "source": [
        "prediction = model.predict(real_data)\n",
        "prediction = scalar.inverse_transform(prediction)\n",
        "print(prediction)"
      ],
      "metadata": {
        "id": "a1wahYwXcUdz",
        "colab": {
          "base_uri": "https://localhost:8080/"
        },
        "outputId": "3ed8d1d5-221f-4b63-aa86-85656b464391"
      },
      "execution_count": null,
      "outputs": [
        {
          "output_type": "stream",
          "name": "stdout",
          "text": [
            "1/1 [==============================] - 1s 1s/step\n",
            "[[30993.459]]\n"
          ]
        }
      ]
    },
    {
      "cell_type": "code",
      "source": [
        "# Save the prediction value to Firebase Firestore\n",
        "db = firestore.client()\n",
        "doc_ref = db.collection('predictioncrypto').document(crypto_currency)\n",
        "doc_ref.set({\n",
        "    'prediction': float(prediction[0][0])\n",
        "})"
      ],
      "metadata": {
        "colab": {
          "base_uri": "https://localhost:8080/"
        },
        "id": "bMM4WJ-R0Q7s",
        "outputId": "fe600010-de67-4be1-e6a8-308862eacd9e"
      },
      "execution_count": null,
      "outputs": [
        {
          "output_type": "execute_result",
          "data": {
            "text/plain": [
              "update_time {\n",
              "  seconds: 1691396717\n",
              "  nanos: 96920000\n",
              "}"
            ]
          },
          "metadata": {},
          "execution_count": 26
        }
      ]
    }
  ]
}