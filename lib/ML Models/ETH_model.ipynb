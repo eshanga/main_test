{
  "nbformat": 4,
  "nbformat_minor": 0,
  "metadata": {
    "colab": {
      "provenance": []
    },
    "kernelspec": {
      "name": "python3",
      "display_name": "Python 3"
    },
    "language_info": {
      "name": "python"
    }
  },
  "cells": [
    {
      "cell_type": "code",
      "source": [
        "import numpy as np\n",
        "import matplotlib.pyplot as plt\n",
        "import pandas as pd\n",
        "import pandas_datareader as web\n",
        "import datetime as dt\n",
        "import tensorflow as tf\n",
        "from sklearn.preprocessing import MinMaxScaler\n",
        "from tensorflow.keras.layers import Dense, Dropout, LSTM\n",
        "from tensorflow.keras.models import Sequential\n",
        "import yfinance as yf\n",
        "import firebase_admin\n",
        "from firebase_admin import credentials\n",
        "from firebase_admin import firestore"
      ],
      "metadata": {
        "id": "2L44ULMa0uxj"
      },
      "execution_count": null,
      "outputs": []
    },
    {
      "cell_type": "code",
      "source": [
        "# Initialize Firebase\n",
        "cred = credentials.Certificate('/content/drive/MyDrive/Predictions/financiaflutter-firebase-adminsdk-ajaw7-f515e50a59.json')\n",
        "firebase_admin.initialize_app(cred)"
      ],
      "metadata": {
        "colab": {
          "base_uri": "https://localhost:8080/"
        },
        "id": "UpLleq-A2aKT",
        "outputId": "8d825eae-1982-4b03-f454-cfe485b63cd0"
      },
      "execution_count": null,
      "outputs": [
        {
          "output_type": "execute_result",
          "data": {
            "text/plain": [
              "<firebase_admin.App at 0x7f28b7185f00>"
            ]
          },
          "metadata": {},
          "execution_count": 2
        }
      ]
    },
    {
      "cell_type": "code",
      "source": [
        "crypto_currency = 'ETH'\n",
        "against_currency = 'USD'\n",
        "\n",
        "start = dt.datetime(2016,1,1)\n",
        "end = dt.datetime.now()\n",
        "\n",
        "data = yf.download('ETH-USD', start=start, end=end)"
      ],
      "metadata": {
        "colab": {
          "base_uri": "https://localhost:8080/"
        },
        "id": "-enVTxb2NUfu",
        "outputId": "e3a14166-b57e-4b7c-cb62-8b96de8354cc"
      },
      "execution_count": null,
      "outputs": [
        {
          "output_type": "stream",
          "name": "stdout",
          "text": [
            "\r[*********************100%***********************]  1 of 1 completed\n"
          ]
        }
      ]
    },
    {
      "cell_type": "markdown",
      "source": [
        "Prepare Data"
      ],
      "metadata": {
        "id": "e6CiirouBToR"
      }
    },
    {
      "cell_type": "code",
      "source": [
        "print(data.head())"
      ],
      "metadata": {
        "colab": {
          "base_uri": "https://localhost:8080/"
        },
        "id": "PGgXC6yhN08U",
        "outputId": "74917671-5ee3-421f-ad3a-3b641bef6256"
      },
      "execution_count": null,
      "outputs": [
        {
          "output_type": "stream",
          "name": "stdout",
          "text": [
            "                  Open        High         Low       Close   Adj Close  \\\n",
            "Date                                                                     \n",
            "2017-11-09  308.644989  329.451996  307.056000  320.884003  320.884003   \n",
            "2017-11-10  320.670990  324.717987  294.541992  299.252991  299.252991   \n",
            "2017-11-11  298.585999  319.453003  298.191986  314.681000  314.681000   \n",
            "2017-11-12  314.690002  319.153015  298.513000  307.907990  307.907990   \n",
            "2017-11-13  307.024994  328.415009  307.024994  316.716003  316.716003   \n",
            "\n",
            "                Volume  \n",
            "Date                    \n",
            "2017-11-09   893249984  \n",
            "2017-11-10   885985984  \n",
            "2017-11-11   842300992  \n",
            "2017-11-12  1613479936  \n",
            "2017-11-13  1041889984  \n"
          ]
        }
      ]
    },
    {
      "cell_type": "code",
      "source": [
        "from sklearn.preprocessing import MinMaxScaler"
      ],
      "metadata": {
        "id": "HE8W8dTACTPM"
      },
      "execution_count": null,
      "outputs": []
    },
    {
      "cell_type": "code",
      "source": [
        "scalar= MinMaxScaler(feature_range=(0,1))\n",
        "scaled_data =scalar.fit_transform(data['Close'].values.reshape(-1,1))"
      ],
      "metadata": {
        "id": "YWFh9HqWhP8z"
      },
      "execution_count": null,
      "outputs": []
    },
    {
      "cell_type": "code",
      "source": [
        "prediction_days = 60\n",
        "future_day = 10\n",
        "\n",
        "x_train, y_train=[], []"
      ],
      "metadata": {
        "id": "TgNWw21HB5oF"
      },
      "execution_count": null,
      "outputs": []
    },
    {
      "cell_type": "code",
      "source": [
        "for x in range(prediction_days, len(scaled_data)-future_day):\n",
        "  x_train.append(scaled_data[x-prediction_days:x, 0])\n",
        "  y_train.append(scaled_data[x+future_day, 0])\n",
        "\n",
        "x_train, y_train = np.array(x_train), np.array(y_train)\n",
        "x_train = np.reshape(x_train, (x_train.shape[0], x_train.shape[1], 1))"
      ],
      "metadata": {
        "id": "5hyIgP5_C3B0"
      },
      "execution_count": null,
      "outputs": []
    },
    {
      "cell_type": "markdown",
      "source": [
        "Create Neural Network"
      ],
      "metadata": {
        "id": "cBo0daU9EQOd"
      }
    },
    {
      "cell_type": "code",
      "source": [
        "model = Sequential()\n",
        "\n",
        "model.add(LSTM(units=50, return_sequences=True, input_shape=(x_train.shape[1], 1)))\n",
        "model.add(Dropout(0.2))\n",
        "model.add(LSTM(units=50, return_sequences=True))\n",
        "model.add(Dropout(0.2))\n",
        "model.add(LSTM(units=50))\n",
        "model.add(Dropout(0.2))\n",
        "model.add(Dense(units=1))\n",
        "\n",
        "model.compile(optimizer='adam', loss='mean_squared_error')\n",
        "model.fit(x_train, y_train, epochs=25, batch_size=32)"
      ],
      "metadata": {
        "id": "qsE9DwL-D1LW",
        "colab": {
          "base_uri": "https://localhost:8080/"
        },
        "outputId": "3d51305b-7b63-4733-98f3-f9081185f4bc"
      },
      "execution_count": null,
      "outputs": [
        {
          "output_type": "stream",
          "name": "stdout",
          "text": [
            "Epoch 1/25\n",
            "64/64 [==============================] - 15s 130ms/step - loss: 0.0157\n",
            "Epoch 2/25\n",
            "64/64 [==============================] - 6s 87ms/step - loss: 0.0060\n",
            "Epoch 3/25\n",
            "64/64 [==============================] - 7s 115ms/step - loss: 0.0061\n",
            "Epoch 4/25\n",
            "64/64 [==============================] - 5s 85ms/step - loss: 0.0052\n",
            "Epoch 5/25\n",
            "64/64 [==============================] - 6s 99ms/step - loss: 0.0055\n",
            "Epoch 6/25\n",
            "64/64 [==============================] - 7s 101ms/step - loss: 0.0045\n",
            "Epoch 7/25\n",
            "64/64 [==============================] - 6s 87ms/step - loss: 0.0047\n",
            "Epoch 8/25\n",
            "64/64 [==============================] - 7s 116ms/step - loss: 0.0047\n",
            "Epoch 9/25\n",
            "64/64 [==============================] - 6s 87ms/step - loss: 0.0049\n",
            "Epoch 10/25\n",
            "64/64 [==============================] - 7s 115ms/step - loss: 0.0046\n",
            "Epoch 11/25\n",
            "64/64 [==============================] - 6s 87ms/step - loss: 0.0046\n",
            "Epoch 12/25\n",
            "64/64 [==============================] - 7s 116ms/step - loss: 0.0047\n",
            "Epoch 13/25\n",
            "64/64 [==============================] - 6s 87ms/step - loss: 0.0044\n",
            "Epoch 14/25\n",
            "64/64 [==============================] - 6s 100ms/step - loss: 0.0043\n",
            "Epoch 15/25\n",
            "64/64 [==============================] - 6s 100ms/step - loss: 0.0043\n",
            "Epoch 16/25\n",
            "64/64 [==============================] - 6s 86ms/step - loss: 0.0044\n",
            "Epoch 17/25\n",
            "64/64 [==============================] - 7s 115ms/step - loss: 0.0043\n",
            "Epoch 18/25\n",
            "64/64 [==============================] - 6s 86ms/step - loss: 0.0045\n",
            "Epoch 19/25\n",
            "64/64 [==============================] - 7s 116ms/step - loss: 0.0044\n",
            "Epoch 20/25\n",
            "64/64 [==============================] - 5s 86ms/step - loss: 0.0042\n",
            "Epoch 21/25\n",
            "64/64 [==============================] - 7s 113ms/step - loss: 0.0043\n",
            "Epoch 22/25\n",
            "64/64 [==============================] - 6s 86ms/step - loss: 0.0041\n",
            "Epoch 23/25\n",
            "64/64 [==============================] - 6s 97ms/step - loss: 0.0042\n",
            "Epoch 24/25\n",
            "64/64 [==============================] - 7s 104ms/step - loss: 0.0042\n",
            "Epoch 25/25\n",
            "64/64 [==============================] - 6s 86ms/step - loss: 0.0039\n"
          ]
        },
        {
          "output_type": "execute_result",
          "data": {
            "text/plain": [
              "<keras.callbacks.History at 0x7f28303aaa10>"
            ]
          },
          "metadata": {},
          "execution_count": 9
        }
      ]
    },
    {
      "cell_type": "markdown",
      "source": [
        "Testing the model"
      ],
      "metadata": {
        "id": "RALFcc-HoxIw"
      }
    },
    {
      "cell_type": "code",
      "source": [
        "test_start = dt.datetime(2020,1,1)\n",
        "test_end = dt.datetime.now()\n",
        "\n",
        "test_data = yf.download('ETH-USD', start=test_start, end=test_end)\n",
        "actual_prices = test_data['Close'].values\n",
        "\n",
        "total_dataset = pd.concat((data['Close'], test_data['Close']), axis=0)"
      ],
      "metadata": {
        "id": "Gr2U0ghREWLH",
        "colab": {
          "base_uri": "https://localhost:8080/"
        },
        "outputId": "03e43136-7357-42ef-e197-f479cbcc92f4"
      },
      "execution_count": null,
      "outputs": [
        {
          "output_type": "stream",
          "name": "stdout",
          "text": [
            "\r[*********************100%***********************]  1 of 1 completed\n"
          ]
        }
      ]
    },
    {
      "cell_type": "code",
      "source": [
        "model_inputs = total_dataset[len(total_dataset) - len(test_data) - prediction_days:].values\n",
        "model_inputs = model_inputs.reshape(-1, 1)\n",
        "model_inputs = scalar.fit_transform(model_inputs)"
      ],
      "metadata": {
        "id": "vVWVHDXdrLjf"
      },
      "execution_count": null,
      "outputs": []
    },
    {
      "cell_type": "code",
      "source": [
        "x_test = []\n",
        "\n",
        "for x in range(prediction_days, len(model_inputs)):\n",
        "  x_test.append(model_inputs[x-prediction_days:x, 0])\n",
        "\n",
        "x_test = np.array(x_test)\n",
        "x_test = np.reshape(x_test, (x_test.shape[0], x_test.shape[1], 1))"
      ],
      "metadata": {
        "id": "rtj6W7KUsfs8"
      },
      "execution_count": null,
      "outputs": []
    },
    {
      "cell_type": "code",
      "source": [
        "prediction_prices = model.predict(x_test)\n",
        "prediction_prices = scalar.inverse_transform(prediction_prices)"
      ],
      "metadata": {
        "colab": {
          "base_uri": "https://localhost:8080/"
        },
        "id": "g-01GpkttO-R",
        "outputId": "a3536811-555e-4244-8f56-3b42a12bbb62"
      },
      "execution_count": null,
      "outputs": [
        {
          "output_type": "stream",
          "name": "stdout",
          "text": [
            "41/41 [==============================] - 2s 26ms/step\n"
          ]
        }
      ]
    },
    {
      "cell_type": "code",
      "source": [
        "plt.plot(actual_prices, color='black', label='Actual Prices')\n",
        "plt.plot(prediction_prices, color='green', label='Predicted Prices')\n",
        "plt.title('ETH price Prediction')\n",
        "plt.xlabel('Time')\n",
        "plt.ylabel('Price')\n",
        "plt.legend(loc = 'upper left')\n",
        "plt.show()"
      ],
      "metadata": {
        "colab": {
          "base_uri": "https://localhost:8080/",
          "height": 472
        },
        "id": "At6TfsNQuXmG",
        "outputId": "02eb56e8-ece4-422c-9cb7-745a4119dd7d"
      },
      "execution_count": null,
      "outputs": [
        {
          "output_type": "display_data",
          "data": {
            "text/plain": [
              "<Figure size 640x480 with 1 Axes>"
            ],
            "image/png": "[encoded data removed]"
          },
          "metadata": {}
        }
      ]
    },
    {
      "cell_type": "markdown",
      "source": [
        "# Predict next day"
      ],
      "metadata": {
        "id": "oe2mwlazbGSy"
      }
    },
    {
      "cell_type": "code",
      "source": [
        "real_data = [model_inputs[len(model_inputs)+1 - prediction_days:len(model_inputs) + 1, 0]]\n",
        "real_data = np.array(real_data)\n"
      ],
      "metadata": {
        "id": "q6WxVEVjbFdF"
      },
      "execution_count": null,
      "outputs": []
    },
    {
      "cell_type": "code",
      "source": [
        "real_data.shape"
      ],
      "metadata": {
        "colab": {
          "base_uri": "https://localhost:8080/"
        },
        "id": "iKbdIwBLPfsC",
        "outputId": "f1452080-c214-4ea0-abfe-4b0a98efd7ae"
      },
      "execution_count": null,
      "outputs": [
        {
          "output_type": "execute_result",
          "data": {
            "text/plain": [
              "(1, 59)"
            ]
          },
          "metadata": {},
          "execution_count": 16
        }
      ]
    },
    {
      "cell_type": "code",
      "source": [
        "real_data = np.reshape(real_data, (real_data.shape[0],real_data.shape[1], 1))"
      ],
      "metadata": {
        "id": "aBdxprq1L61A"
      },
      "execution_count": null,
      "outputs": []
    },
    {
      "cell_type": "code",
      "source": [
        "prediction = model.predict(real_data)\n",
        "prediction = scalar.inverse_transform(prediction)\n",
        "print(prediction)"
      ],
      "metadata": {
        "id": "a1wahYwXcUdz",
        "colab": {
          "base_uri": "https://localhost:8080/"
        },
        "outputId": "e6c98987-0a4b-4da0-fd8a-83a234b3156e"
      },
      "execution_count": null,
      "outputs": [
        {
          "output_type": "stream",
          "name": "stdout",
          "text": [
            "1/1 [==============================] - 1s 1s/step\n",
            "[[1940.2937]]\n"
          ]
        }
      ]
    },
    {
      "cell_type": "code",
      "source": [
        "# Save the prediction value to Firebase Firestore\n",
        "db = firestore.client()\n",
        "doc_ref = db.collection('predictioncrypto').document(crypto_currency)\n",
        "doc_ref.set({\n",
        "    'prediction': float(prediction[0][0])\n",
        "})"
      ],
      "metadata": {
        "colab": {
          "base_uri": "https://localhost:8080/"
        },
        "id": "eC6G3iZ82r4R",
        "outputId": "9995c45a-a464-48ed-9c66-966d9912cd7d"
      },
      "execution_count": null,
      "outputs": [
        {
          "output_type": "execute_result",
          "data": {
            "text/plain": [
              "update_time {\n",
              "  seconds: 1691397161\n",
              "  nanos: 317191000\n",
              "}"
            ]
          },
          "metadata": {},
          "execution_count": 19
        }
      ]
    }
  ]
}