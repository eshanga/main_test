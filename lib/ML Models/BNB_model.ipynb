{
  "nbformat": 4,
  "nbformat_minor": 0,
  "metadata": {
    "colab": {
      "provenance": []
    },
    "kernelspec": {
      "name": "python3",
      "display_name": "Python 3"
    },
    "language_info": {
      "name": "python"
    }
  },
  "cells": [
    {
      "cell_type": "code",
      "source": [
        "import numpy as np\n",
        "import matplotlib.pyplot as plt\n",
        "import pandas as pd\n",
        "import pandas_datareader as web\n",
        "import datetime as dt\n",
        "import tensorflow as tf\n",
        "from sklearn.preprocessing import MinMaxScaler\n",
        "from tensorflow.keras.layers import Dense, Dropout, LSTM\n",
        "from tensorflow.keras.models import Sequential\n",
        "import yfinance as yf\n",
        "import firebase_admin\n",
        "from firebase_admin import credentials\n",
        "from firebase_admin import firestore"
      ],
      "metadata": {
        "id": "2L44ULMa0uxj"
      },
      "execution_count": null,
      "outputs": []
    },
    {
      "cell_type": "code",
      "source": [
        "# Initialize Firebase\n",
        "cred = credentials.Certificate('/content/drive/MyDrive/Predictions/financiaflutter-firebase-adminsdk-ajaw7-f515e50a59.json')\n",
        "firebase_admin.initialize_app(cred)"
      ],
      "metadata": {
        "id": "tJsP7Htg0Hb3",
        "colab": {
          "base_uri": "https://localhost:8080/",
          "height": 349
        },
        "outputId": "a0358df2-c935-46f8-e2dc-9550d7ad6890"
      },
      "execution_count": null,
      "outputs": [
        {
          "output_type": "error",
          "ename": "ValueError",
          "evalue": "ignored",
          "traceback": [
            "\u001b[0;31m---------------------------------------------------------------------------\u001b[0m",
            "\u001b[0;31mValueError\u001b[0m                                Traceback (most recent call last)",
            "\u001b[0;32m<ipython-input-29-088a22dbfd1f>\u001b[0m in \u001b[0;36m<cell line: 3>\u001b[0;34m()\u001b[0m\n\u001b[1;32m      1\u001b[0m \u001b[0;31m# Initialize Firebase\u001b[0m\u001b[0;34m\u001b[0m\u001b[0;34m\u001b[0m\u001b[0m\n\u001b[1;32m      2\u001b[0m \u001b[0mcred\u001b[0m \u001b[0;34m=\u001b[0m \u001b[0mcredentials\u001b[0m\u001b[0;34m.\u001b[0m\u001b[0mCertificate\u001b[0m\u001b[0;34m(\u001b[0m\u001b[0;34m'/content/drive/MyDrive/Predictions/financiaflutter-firebase-adminsdk-ajaw7-f515e50a59.json'\u001b[0m\u001b[0;34m)\u001b[0m\u001b[0;34m\u001b[0m\u001b[0;34m\u001b[0m\u001b[0m\n\u001b[0;32m----> 3\u001b[0;31m \u001b[0mfirebase_admin\u001b[0m\u001b[0;34m.\u001b[0m\u001b[0minitialize_app\u001b[0m\u001b[0;34m(\u001b[0m\u001b[0mcred\u001b[0m\u001b[0;34m)\u001b[0m\u001b[0;34m\u001b[0m\u001b[0;34m\u001b[0m\u001b[0m\n\u001b[0m",
            "\u001b[0;32m/usr/local/lib/python3.10/dist-packages/firebase_admin/__init__.py\u001b[0m in \u001b[0;36minitialize_app\u001b[0;34m(credential, options, name)\u001b[0m\n\u001b[1;32m     69\u001b[0m \u001b[0;34m\u001b[0m\u001b[0m\n\u001b[1;32m     70\u001b[0m     \u001b[0;32mif\u001b[0m \u001b[0mname\u001b[0m \u001b[0;34m==\u001b[0m \u001b[0m_DEFAULT_APP_NAME\u001b[0m\u001b[0;34m:\u001b[0m\u001b[0;34m\u001b[0m\u001b[0;34m\u001b[0m\u001b[0m\n\u001b[0;32m---> 71\u001b[0;31m         raise ValueError((\n\u001b[0m\u001b[1;32m     72\u001b[0m             \u001b[0;34m'The default Firebase app already exists. This means you called '\u001b[0m\u001b[0;34m\u001b[0m\u001b[0;34m\u001b[0m\u001b[0m\n\u001b[1;32m     73\u001b[0m             \u001b[0;34m'initialize_app() more than once without providing an app name as '\u001b[0m\u001b[0;34m\u001b[0m\u001b[0;34m\u001b[0m\u001b[0m\n",
            "\u001b[0;31mValueError\u001b[0m: The default Firebase app already exists. This means you called initialize_app() more than once without providing an app name as the second argument. In most cases you only need to call initialize_app() once. But if you do want to initialize multiple apps, pass a second argument to initialize_app() to give each app a unique name."
          ]
        }
      ]
    },
    {
      "cell_type": "code",
      "source": [
        "crypto_currency = 'BNB'\n",
        "against_currency = 'USD'\n",
        "\n",
        "start = dt.datetime(2016,1,1)\n",
        "end = dt.datetime.now()\n",
        "\n",
        "data = yf.download('BNB-USD', start=start, end=end)"
      ],
      "metadata": {
        "colab": {
          "base_uri": "https://localhost:8080/"
        },
        "id": "-enVTxb2NUfu",
        "outputId": "5d2f4316-3b8e-47d0-fecc-d6386a6e02fa"
      },
      "execution_count": null,
      "outputs": [
        {
          "output_type": "stream",
          "name": "stdout",
          "text": [
            "\r[*********************100%***********************]  1 of 1 completed\n"
          ]
        }
      ]
    },
    {
      "cell_type": "markdown",
      "source": [
        "Prepare Data"
      ],
      "metadata": {
        "id": "e6CiirouBToR"
      }
    },
    {
      "cell_type": "code",
      "source": [
        "print(data.tail())"
      ],
      "metadata": {
        "colab": {
          "base_uri": "https://localhost:8080/"
        },
        "id": "PGgXC6yhN08U",
        "outputId": "0d4a629e-8e8e-427b-b42e-0cd800929e3d"
      },
      "execution_count": null,
      "outputs": [
        {
          "output_type": "stream",
          "name": "stdout",
          "text": [
            "                  Open        High         Low       Close   Adj Close  \\\n",
            "Date                                                                     \n",
            "2023-07-30  242.582214  243.785721  240.925186  242.525986  242.525986   \n",
            "2023-07-31  242.519592  244.202576  240.764450  241.120651  241.120651   \n",
            "2023-08-01  241.128052  247.505020  238.530243  247.505020  247.505020   \n",
            "2023-08-02  247.490311  248.511551  236.891769  240.494644  240.494644   \n",
            "2023-08-07  243.010971  244.324249  241.957230  242.241211  242.241211   \n",
            "\n",
            "                Volume  \n",
            "Date                    \n",
            "2023-07-30   425584373  \n",
            "2023-07-31  1092564922  \n",
            "2023-08-01   830645013  \n",
            "2023-08-02   650256385  \n",
            "2023-08-07   381459264  \n"
          ]
        }
      ]
    },
    {
      "cell_type": "code",
      "source": [
        "from sklearn.preprocessing import MinMaxScaler"
      ],
      "metadata": {
        "id": "HE8W8dTACTPM"
      },
      "execution_count": null,
      "outputs": []
    },
    {
      "cell_type": "code",
      "source": [
        "data['Close'].values.reshape(-1,1)"
      ],
      "metadata": {
        "colab": {
          "base_uri": "https://localhost:8080/"
        },
        "id": "G0LhBOQd4myx",
        "outputId": "8f18b5a0-0562-4b5b-add8-07a76d3ce6e2"
      },
      "execution_count": null,
      "outputs": [
        {
          "output_type": "execute_result",
          "data": {
            "text/plain": [
              "array([[  1.99076998],\n",
              "       [  1.79683995],\n",
              "       [  1.67047   ],\n",
              "       ...,\n",
              "       [247.50502014],\n",
              "       [240.49464417],\n",
              "       [242.24121094]])"
            ]
          },
          "metadata": {},
          "execution_count": 33
        }
      ]
    },
    {
      "cell_type": "code",
      "source": [
        "scalar= MinMaxScaler(feature_range=(0,1))\n",
        "scaled_data =scalar.fit_transform(data['Close'].values.reshape(-1,1))\n",
        "scaled_data.shape"
      ],
      "metadata": {
        "id": "YWFh9HqWhP8z",
        "colab": {
          "base_uri": "https://localhost:8080/"
        },
        "outputId": "08fe46ec-1d2c-444d-f4ae-fdc1d957790e"
      },
      "execution_count": null,
      "outputs": [
        {
          "output_type": "execute_result",
          "data": {
            "text/plain": [
              "(2094, 1)"
            ]
          },
          "metadata": {},
          "execution_count": 34
        }
      ]
    },
    {
      "cell_type": "code",
      "source": [
        "prediction_days = 60\n",
        "future_day = 10\n",
        "\n",
        "x_train, y_train=[], []"
      ],
      "metadata": {
        "id": "TgNWw21HB5oF"
      },
      "execution_count": null,
      "outputs": []
    },
    {
      "cell_type": "code",
      "source": [
        "for x in range(prediction_days, len(scaled_data)-future_day):\n",
        "  x_train.append(scaled_data[x-prediction_days:x, 0])\n",
        "  y_train.append(scaled_data[x+future_day, 0])\n"
      ],
      "metadata": {
        "id": "PN18BfAk3-B5"
      },
      "execution_count": null,
      "outputs": []
    },
    {
      "cell_type": "code",
      "source": [
        " x_train[70]"
      ],
      "metadata": {
        "colab": {
          "base_uri": "https://localhost:8080/"
        },
        "id": "PSHaJnDg7HWz",
        "outputId": "c071952e-5885-45cb-a8c5-66d8eb082c03"
      },
      "execution_count": null,
      "outputs": [
        {
          "output_type": "execute_result",
          "data": {
            "text/plain": [
              "array([0.01894177, 0.01992104, 0.02177471, 0.01862716, 0.01706421,\n",
              "       0.01718124, 0.0179751 , 0.01738134, 0.01736621, 0.01741783,\n",
              "       0.01784383, 0.01669323, 0.01444782, 0.01429104, 0.01187451,\n",
              "       0.0120769 , 0.01222136, 0.01030636, 0.00770524, 0.01005452,\n",
              "       0.00976699, 0.01050937, 0.01219285, 0.01148904, 0.01067166,\n",
              "       0.01158768, 0.01108975, 0.01318687, 0.01397376, 0.01437499,\n",
              "       0.01509839, 0.01363453, 0.01418824, 0.01245102, 0.01167419,\n",
              "       0.01096701, 0.01213597, 0.01131986, 0.01162347, 0.01244777,\n",
              "       0.01357149, 0.01324264, 0.0133487 , 0.0129261 , 0.01291587,\n",
              "       0.01310899, 0.01275656, 0.01167951, 0.0111611 , 0.01008654,\n",
              "       0.01009044, 0.00913904, 0.01003009, 0.00968431, 0.01276354,\n",
              "       0.01104886, 0.01125633, 0.01127448, 0.01109118, 0.01103794])"
            ]
          },
          "metadata": {},
          "execution_count": 37
        }
      ]
    },
    {
      "cell_type": "code",
      "source": [
        "x_train, y_train = np.array(x_train), np.array(y_train)\n",
        "x_train.shape"
      ],
      "metadata": {
        "colab": {
          "base_uri": "https://localhost:8080/"
        },
        "id": "XpZD96ng4JVh",
        "outputId": "c4ba23fd-dac4-433f-f2ad-9e6432d3ae53"
      },
      "execution_count": null,
      "outputs": [
        {
          "output_type": "execute_result",
          "data": {
            "text/plain": [
              "(2024, 60)"
            ]
          },
          "metadata": {},
          "execution_count": 38
        }
      ]
    },
    {
      "cell_type": "code",
      "source": [
        "y_train.shape"
      ],
      "metadata": {
        "id": "5hyIgP5_C3B0",
        "colab": {
          "base_uri": "https://localhost:8080/"
        },
        "outputId": "0d932483-2df1-4baf-e377-44d40d45af18"
      },
      "execution_count": null,
      "outputs": [
        {
          "output_type": "execute_result",
          "data": {
            "text/plain": [
              "(2024,)"
            ]
          },
          "metadata": {},
          "execution_count": 39
        }
      ]
    },
    {
      "cell_type": "code",
      "source": [
        "x_train = np.reshape(x_train, (x_train.shape[0], x_train.shape[1], 1))"
      ],
      "metadata": {
        "id": "vLfpu5TM2ycc"
      },
      "execution_count": null,
      "outputs": []
    },
    {
      "cell_type": "markdown",
      "source": [
        "Create Neural Network"
      ],
      "metadata": {
        "id": "cBo0daU9EQOd"
      }
    },
    {
      "cell_type": "code",
      "source": [
        "model = Sequential()\n",
        "\n",
        "model.add(LSTM(units=50, return_sequences=True, input_shape=(x_train.shape[1], 1)))\n",
        "model.add(Dropout(0.2))\n",
        "model.add(LSTM(units=50, return_sequences=True))\n",
        "model.add(Dropout(0.2))\n",
        "model.add(LSTM(units=50))\n",
        "model.add(Dropout(0.2))\n",
        "model.add(Dense(units=1))\n",
        "\n",
        "model.compile(optimizer='adam', loss='mean_squared_error')\n",
        "model.fit(x_train, y_train, epochs=25, batch_size=32)"
      ],
      "metadata": {
        "id": "qsE9DwL-D1LW",
        "colab": {
          "base_uri": "https://localhost:8080/"
        },
        "outputId": "634f69ad-011d-4b77-a84f-cb42621a299c"
      },
      "execution_count": null,
      "outputs": [
        {
          "output_type": "stream",
          "name": "stdout",
          "text": [
            "Epoch 1/25\n",
            "64/64 [==============================] - 8s 60ms/step - loss: 0.0194\n",
            "Epoch 2/25\n",
            "64/64 [==============================] - 4s 69ms/step - loss: 0.0070\n",
            "Epoch 3/25\n",
            "64/64 [==============================] - 4s 65ms/step - loss: 0.0063\n",
            "Epoch 4/25\n",
            "64/64 [==============================] - 4s 61ms/step - loss: 0.0059\n",
            "Epoch 5/25\n",
            "64/64 [==============================] - 4s 68ms/step - loss: 0.0057\n",
            "Epoch 6/25\n",
            "64/64 [==============================] - 4s 67ms/step - loss: 0.0057\n",
            "Epoch 7/25\n",
            "64/64 [==============================] - 4s 60ms/step - loss: 0.0056\n",
            "Epoch 8/25\n",
            "64/64 [==============================] - 4s 65ms/step - loss: 0.0054\n",
            "Epoch 9/25\n",
            "64/64 [==============================] - 4s 70ms/step - loss: 0.0056\n",
            "Epoch 10/25\n",
            "64/64 [==============================] - 4s 61ms/step - loss: 0.0055\n",
            "Epoch 11/25\n",
            "64/64 [==============================] - 4s 62ms/step - loss: 0.0053\n",
            "Epoch 12/25\n",
            "64/64 [==============================] - 5s 72ms/step - loss: 0.0052\n",
            "Epoch 13/25\n",
            "64/64 [==============================] - 4s 60ms/step - loss: 0.0051\n",
            "Epoch 14/25\n",
            "64/64 [==============================] - 4s 60ms/step - loss: 0.0055\n",
            "Epoch 15/25\n",
            "64/64 [==============================] - 5s 75ms/step - loss: 0.0052\n",
            "Epoch 16/25\n",
            "64/64 [==============================] - 4s 60ms/step - loss: 0.0049\n",
            "Epoch 17/25\n",
            "64/64 [==============================] - 4s 60ms/step - loss: 0.0053\n",
            "Epoch 18/25\n",
            "64/64 [==============================] - 5s 75ms/step - loss: 0.0051\n",
            "Epoch 19/25\n",
            "64/64 [==============================] - 4s 59ms/step - loss: 0.0047\n",
            "Epoch 20/25\n",
            "64/64 [==============================] - 4s 60ms/step - loss: 0.0047\n",
            "Epoch 21/25\n",
            "64/64 [==============================] - 5s 74ms/step - loss: 0.0051\n",
            "Epoch 22/25\n",
            "64/64 [==============================] - 4s 60ms/step - loss: 0.0051\n",
            "Epoch 23/25\n",
            "64/64 [==============================] - 4s 61ms/step - loss: 0.0048\n",
            "Epoch 24/25\n",
            "64/64 [==============================] - 5s 74ms/step - loss: 0.0048\n",
            "Epoch 25/25\n",
            "64/64 [==============================] - 4s 60ms/step - loss: 0.0048\n"
          ]
        },
        {
          "output_type": "execute_result",
          "data": {
            "text/plain": [
              "<keras.callbacks.History at 0x79b4a2ea2050>"
            ]
          },
          "metadata": {},
          "execution_count": 41
        }
      ]
    },
    {
      "cell_type": "markdown",
      "source": [
        "Testing the model"
      ],
      "metadata": {
        "id": "RALFcc-HoxIw"
      }
    },
    {
      "cell_type": "code",
      "source": [
        "test_start = dt.datetime(2020,1,1)\n",
        "test_end = dt.datetime.now()\n",
        "\n",
        "test_data = yf.download('BNB-USD', start=test_start, end=test_end)\n",
        "actual_prices = test_data['Close'].values\n",
        "\n",
        "total_dataset = pd.concat((data['Close'], test_data['Close']), axis=0)"
      ],
      "metadata": {
        "id": "Gr2U0ghREWLH",
        "colab": {
          "base_uri": "https://localhost:8080/"
        },
        "outputId": "0d4295c4-f528-4eb6-94e1-3dd3f5fcea8c"
      },
      "execution_count": null,
      "outputs": [
        {
          "output_type": "stream",
          "name": "stdout",
          "text": [
            "\r[*********************100%***********************]  1 of 1 completed\n"
          ]
        }
      ]
    },
    {
      "cell_type": "code",
      "source": [
        "model_inputs = total_dataset[len(total_dataset) - len(test_data) - prediction_days:].values\n",
        "model_inputs = model_inputs.reshape(-1, 1)\n",
        "model_inputs = scalar.fit_transform(model_inputs)"
      ],
      "metadata": {
        "id": "vVWVHDXdrLjf"
      },
      "execution_count": null,
      "outputs": []
    },
    {
      "cell_type": "code",
      "source": [
        "x_test = []\n",
        "\n",
        "for x in range(prediction_days, len(model_inputs)):\n",
        "  x_test.append(model_inputs[x-prediction_days:x, 0])\n",
        "\n",
        "x_test = np.array(x_test)\n",
        "x_test = np.reshape(x_test, (x_test.shape[0], x_test.shape[1], 1))"
      ],
      "metadata": {
        "id": "rtj6W7KUsfs8"
      },
      "execution_count": null,
      "outputs": []
    },
    {
      "cell_type": "code",
      "source": [
        "x_test.shape"
      ],
      "metadata": {
        "colab": {
          "base_uri": "https://localhost:8080/"
        },
        "id": "mw7haNlt2WqF",
        "outputId": "f80cc4fd-92ba-42cb-873f-9a636a5384cf"
      },
      "execution_count": null,
      "outputs": [
        {
          "output_type": "execute_result",
          "data": {
            "text/plain": [
              "(1311, 60, 1)"
            ]
          },
          "metadata": {},
          "execution_count": 45
        }
      ]
    },
    {
      "cell_type": "code",
      "source": [
        "x_test"
      ],
      "metadata": {
        "colab": {
          "base_uri": "https://localhost:8080/"
        },
        "id": "3blFQbsGzlRJ",
        "outputId": "82951120-1320-4af2-97ce-294e4472275a"
      },
      "execution_count": null,
      "outputs": [
        {
          "output_type": "execute_result",
          "data": {
            "text/plain": [
              "array([[[0.4014768 ],\n",
              "        [0.40839011],\n",
              "        [0.37521557],\n",
              "        ...,\n",
              "        [0.35737607],\n",
              "        [0.34685469],\n",
              "        [0.34947598]],\n",
              "\n",
              "       [[0.40839011],\n",
              "        [0.37521557],\n",
              "        [0.37935344],\n",
              "        ...,\n",
              "        [0.34685469],\n",
              "        [0.34947598],\n",
              "        [0.00645812]],\n",
              "\n",
              "       [[0.37521557],\n",
              "        [0.37935344],\n",
              "        [0.37720364],\n",
              "        ...,\n",
              "        [0.34947598],\n",
              "        [0.00645812],\n",
              "        [0.00546446]],\n",
              "\n",
              "       ...,\n",
              "\n",
              "       [[0.44730396],\n",
              "        [0.44624786],\n",
              "        [0.44390158],\n",
              "        ...,\n",
              "        [0.349979  ],\n",
              "        [0.34990338],\n",
              "        [0.34779422]],\n",
              "\n",
              "       [[0.44624786],\n",
              "        [0.44390158],\n",
              "        [0.4014768 ],\n",
              "        ...,\n",
              "        [0.34990338],\n",
              "        [0.34779422],\n",
              "        [0.35737607]],\n",
              "\n",
              "       [[0.44390158],\n",
              "        [0.4014768 ],\n",
              "        [0.40839011],\n",
              "        ...,\n",
              "        [0.34779422],\n",
              "        [0.35737607],\n",
              "        [0.34685469]]])"
            ]
          },
          "metadata": {},
          "execution_count": 46
        }
      ]
    },
    {
      "cell_type": "code",
      "source": [
        "prediction_prices = model.predict(x_test)\n",
        "prediction_prices = scalar.inverse_transform(prediction_prices)"
      ],
      "metadata": {
        "colab": {
          "base_uri": "https://localhost:8080/"
        },
        "id": "g-01GpkttO-R",
        "outputId": "0c43afb9-e68e-44e1-cc5a-68a6fc80255d"
      },
      "execution_count": null,
      "outputs": [
        {
          "output_type": "stream",
          "name": "stdout",
          "text": [
            "41/41 [==============================] - 1s 16ms/step\n"
          ]
        }
      ]
    },
    {
      "cell_type": "code",
      "source": [
        "plt.plot(actual_prices, color='black', label='Actual Prices')\n",
        "plt.plot(prediction_prices, color='green', label='Predicted Prices')\n",
        "plt.title('BNB price Prediction')\n",
        "plt.xlabel('Time')\n",
        "plt.ylabel('Price')\n",
        "plt.legend(loc = 'upper left')\n",
        "plt.show()"
      ],
      "metadata": {
        "colab": {
          "base_uri": "https://localhost:8080/",
          "height": 472
        },
        "id": "At6TfsNQuXmG",
        "outputId": "b0fc278b-73f7-4568-c7ad-5a2ff00988fd"
      },
      "execution_count": null,
      "outputs": [
        {
          "output_type": "display_data",
          "data": {
            "text/plain": [
              "<Figure size 640x480 with 1 Axes>"
            ],
            "image/png": "[encoded data removed]"
          },
          "metadata": {}
        }
      ]
    },
    {
      "cell_type": "markdown",
      "source": [
        "# Predict next day"
      ],
      "metadata": {
        "id": "oe2mwlazbGSy"
      }
    },
    {
      "cell_type": "code",
      "source": [
        "real_data = [model_inputs[len(model_inputs)+1 - prediction_days:len(model_inputs) + 1, 0]]\n",
        "real_data = np.array(real_data)\n"
      ],
      "metadata": {
        "id": "q6WxVEVjbFdF"
      },
      "execution_count": null,
      "outputs": []
    },
    {
      "cell_type": "code",
      "source": [
        "real_data.shape"
      ],
      "metadata": {
        "colab": {
          "base_uri": "https://localhost:8080/"
        },
        "id": "iKbdIwBLPfsC",
        "outputId": "68ffb7c3-4e08-4936-e1c4-6ba9b3a8cbfe"
      },
      "execution_count": null,
      "outputs": [
        {
          "output_type": "execute_result",
          "data": {
            "text/plain": [
              "(1, 59)"
            ]
          },
          "metadata": {},
          "execution_count": 50
        }
      ]
    },
    {
      "cell_type": "code",
      "source": [
        "real_data = np.reshape(real_data, (real_data.shape[0],real_data.shape[1], 1))"
      ],
      "metadata": {
        "id": "aBdxprq1L61A"
      },
      "execution_count": null,
      "outputs": []
    },
    {
      "cell_type": "code",
      "source": [
        "prediction = model.predict(real_data)\n",
        "prediction = scalar.inverse_transform(prediction)\n",
        "print(prediction)"
      ],
      "metadata": {
        "id": "a1wahYwXcUdz",
        "colab": {
          "base_uri": "https://localhost:8080/"
        },
        "outputId": "cfe8440f-4f9a-4421-aa74-e55bdfd7c7b1"
      },
      "execution_count": null,
      "outputs": [
        {
          "output_type": "stream",
          "name": "stdout",
          "text": [
            "1/1 [==============================] - 1s 775ms/step\n",
            "[[270.2273]]\n"
          ]
        }
      ]
    },
    {
      "cell_type": "code",
      "source": [
        "# Save the prediction value to Firebase Firestore\n",
        "db = firestore.client()\n",
        "doc_ref = db.collection('predictioncrypto').document(crypto_currency)\n",
        "doc_ref.set({\n",
        "    'prediction': float(prediction[0][0])\n",
        "})"
      ],
      "metadata": {
        "id": "bMM4WJ-R0Q7s",
        "colab": {
          "base_uri": "https://localhost:8080/"
        },
        "outputId": "dc0631f9-f347-4211-d87a-219270760005"
      },
      "execution_count": null,
      "outputs": [
        {
          "output_type": "execute_result",
          "data": {
            "text/plain": [
              "update_time {\n",
              "  seconds: 1691397931\n",
              "  nanos: 381723000\n",
              "}"
            ]
          },
          "metadata": {},
          "execution_count": 53
        }
      ]
    }
  ]
}